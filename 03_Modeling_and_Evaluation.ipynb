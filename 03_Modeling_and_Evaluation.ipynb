{
 "cells": [
  {
   "cell_type": "code",
   "execution_count": 414,
   "id": "481c3b18-df27-49cd-8305-e0f7812a477e",
   "metadata": {},
   "outputs": [],
   "source": [
    "import pandas as pd\n",
    "import numpy as np\n",
    "import matplotlib.pyplot as plt\n",
    "import seaborn as sns\n",
    "\n",
    "from sklearn.model_selection import train_test_split, cross_val_score, GridSearchCV\n",
    "from sklearn.feature_extraction.text import CountVectorizer\n",
    "from sklearn.pipeline import Pipeline, make_pipeline\n",
    "from sklearn.linear_model import LogisticRegression\n",
    "from sklearn.feature_extraction.text import TfidfVectorizer\n",
    "\n",
    "from sklearn.ensemble import RandomForestClassifier, ExtraTreesClassifier, VotingClassifier\n",
    "from sklearn.tree import plot_tree, export_text\n",
    "from sklearn.neighbors import KNeighborsClassifier\n",
    "from sklearn.preprocessing import StandardScaler\n",
    "from sklearn.metrics import ConfusionMatrixDisplay, classification_report, mean_squared_error, recall_score, precision_score"
   ]
  },
  {
   "cell_type": "code",
   "execution_count": 415,
   "id": "1af1a671-5168-4a44-a237-e178ccbb0436",
   "metadata": {
    "tags": []
   },
   "outputs": [],
   "source": [
    "modeling_df = pd.read_csv('./Data/modeling_df.csv', index_col=False)"
   ]
  },
  {
   "cell_type": "code",
   "execution_count": 416,
   "id": "14fa1801-4f2e-41f8-82cb-2c242097905b",
   "metadata": {},
   "outputs": [
    {
     "data": {
      "text/html": [
       "<div>\n",
       "<style scoped>\n",
       "    .dataframe tbody tr th:only-of-type {\n",
       "        vertical-align: middle;\n",
       "    }\n",
       "\n",
       "    .dataframe tbody tr th {\n",
       "        vertical-align: top;\n",
       "    }\n",
       "\n",
       "    .dataframe thead th {\n",
       "        text-align: right;\n",
       "    }\n",
       "</style>\n",
       "<table border=\"1\" class=\"dataframe\">\n",
       "  <thead>\n",
       "    <tr style=\"text-align: right;\">\n",
       "      <th></th>\n",
       "      <th>title</th>\n",
       "      <th>author</th>\n",
       "      <th>subreddit</th>\n",
       "      <th>is_xx</th>\n",
       "    </tr>\n",
       "  </thead>\n",
       "  <tbody>\n",
       "    <tr>\n",
       "      <th>2936</th>\n",
       "      <td>Why do women believe in astrology?</td>\n",
       "      <td>Throaway0913</td>\n",
       "      <td>AskWomen</td>\n",
       "      <td>1</td>\n",
       "    </tr>\n",
       "    <tr>\n",
       "      <th>4799</th>\n",
       "      <td>Men of Reddit would you seriously date an 0F g...</td>\n",
       "      <td>JonAHogan</td>\n",
       "      <td>AskMen</td>\n",
       "      <td>0</td>\n",
       "    </tr>\n",
       "    <tr>\n",
       "      <th>3739</th>\n",
       "      <td>Approaching a man at the gym</td>\n",
       "      <td>throwaway1234zzzzia</td>\n",
       "      <td>AskMen</td>\n",
       "      <td>0</td>\n",
       "    </tr>\n",
       "    <tr>\n",
       "      <th>2506</th>\n",
       "      <td>What to do on first dates?</td>\n",
       "      <td>Mindless_Scarcity389</td>\n",
       "      <td>AskWomen</td>\n",
       "      <td>1</td>\n",
       "    </tr>\n",
       "    <tr>\n",
       "      <th>1808</th>\n",
       "      <td>How likely is it that most women believe Johnn...</td>\n",
       "      <td>seacobs</td>\n",
       "      <td>AskWomen</td>\n",
       "      <td>1</td>\n",
       "    </tr>\n",
       "  </tbody>\n",
       "</table>\n",
       "</div>"
      ],
      "text/plain": [
       "                                                  title                author  \\\n",
       "2936                 Why do women believe in astrology?          Throaway0913   \n",
       "4799  Men of Reddit would you seriously date an 0F g...             JonAHogan   \n",
       "3739                       Approaching a man at the gym   throwaway1234zzzzia   \n",
       "2506                         What to do on first dates?  Mindless_Scarcity389   \n",
       "1808  How likely is it that most women believe Johnn...               seacobs   \n",
       "\n",
       "     subreddit  is_xx  \n",
       "2936  AskWomen      1  \n",
       "4799    AskMen      0  \n",
       "3739    AskMen      0  \n",
       "2506  AskWomen      1  \n",
       "1808  AskWomen      1  "
      ]
     },
     "execution_count": 416,
     "metadata": {},
     "output_type": "execute_result"
    }
   ],
   "source": [
    "modeling_df.sample(5)"
   ]
  },
  {
   "cell_type": "markdown",
   "id": "71d2f7ea-30fe-4ca4-99fb-8f2bf51369ff",
   "metadata": {},
   "source": [
    "# Preprocessing"
   ]
  },
  {
   "cell_type": "markdown",
   "id": "ba28f770-827e-4b2f-b92f-997609d009d8",
   "metadata": {},
   "source": [
    "### Define X and y:"
   ]
  },
  {
   "cell_type": "code",
   "execution_count": 417,
   "id": "ae77bd8d-41c4-4146-b6f7-53a38d14d5a0",
   "metadata": {},
   "outputs": [],
   "source": [
    "X = modeling_df['title']\n",
    "y = modeling_df['is_xx']\n",
    "\n",
    "X_train, X_test, y_train, y_test = train_test_split(X, y, random_state=42, stratify=y)"
   ]
  },
  {
   "cell_type": "markdown",
   "id": "86763b96-c7dd-4c7d-9d3c-038fb0ddb63c",
   "metadata": {},
   "source": [
    "### Find the baseline score:"
   ]
  },
  {
   "cell_type": "code",
   "execution_count": 418,
   "id": "4363d2b0-6747-4537-9833-ae4699851528",
   "metadata": {},
   "outputs": [
    {
     "data": {
      "text/plain": [
       "1    0.52\n",
       "0    0.48\n",
       "Name: is_xx, dtype: float64"
      ]
     },
     "execution_count": 418,
     "metadata": {},
     "output_type": "execute_result"
    }
   ],
   "source": [
    "y.value_counts(normalize=True).round(2)"
   ]
  },
  {
   "cell_type": "markdown",
   "id": "cfd6639f-34f7-4ad0-9407-b51a30538e9e",
   "metadata": {
    "tags": []
   },
   "source": [
    "- 52% of the posts are from AskWomen subreddit and 48% are from AskMen subreddit."
   ]
  },
  {
   "cell_type": "markdown",
   "id": "9303ed36-58fc-4054-992d-e606073b32aa",
   "metadata": {},
   "source": [
    "### Using CountVectorize:"
   ]
  },
  {
   "cell_type": "markdown",
   "id": "e8865784-0416-47cc-8ea6-7b5a682941eb",
   "metadata": {},
   "source": [
    "##### CountVectorize(stop_word='english', ngrams=default)"
   ]
  },
  {
   "cell_type": "code",
   "execution_count": 419,
   "id": "d720ae27-1dfb-4e6a-a259-3bfc3b475d90",
   "metadata": {},
   "outputs": [],
   "source": [
    "cv = CountVectorizer(stop_words='english')\n",
    "cv.fit(X_train)\n",
    "X_train_cv = cv.transform(X_train).A\n",
    "X_test_cv = cv.transform(X_test).A"
   ]
  },
  {
   "cell_type": "code",
   "execution_count": 420,
   "id": "977992cd-f333-48e6-b7d5-0718429f8fee",
   "metadata": {},
   "outputs": [],
   "source": [
    "X_train_cv = pd.DataFrame(X_train_cv, columns=cv.get_feature_names_out())\n",
    "X_test_cv = pd.DataFrame(X_test_cv, columns=cv.get_feature_names_out())"
   ]
  },
  {
   "cell_type": "code",
   "execution_count": 421,
   "id": "a3370386-8939-4274-b7dc-cefde64ee258",
   "metadata": {},
   "outputs": [
    {
     "data": {
      "text/html": [
       "<div>\n",
       "<style scoped>\n",
       "    .dataframe tbody tr th:only-of-type {\n",
       "        vertical-align: middle;\n",
       "    }\n",
       "\n",
       "    .dataframe tbody tr th {\n",
       "        vertical-align: top;\n",
       "    }\n",
       "\n",
       "    .dataframe thead th {\n",
       "        text-align: right;\n",
       "    }\n",
       "</style>\n",
       "<table border=\"1\" class=\"dataframe\">\n",
       "  <thead>\n",
       "    <tr style=\"text-align: right;\">\n",
       "      <th></th>\n",
       "      <th>000</th>\n",
       "      <th>0f</th>\n",
       "      <th>10</th>\n",
       "      <th>100</th>\n",
       "      <th>1000s</th>\n",
       "      <th>100k</th>\n",
       "      <th>100s</th>\n",
       "      <th>11</th>\n",
       "      <th>117lb</th>\n",
       "      <th>12</th>\n",
       "      <th>...</th>\n",
       "      <th>yt</th>\n",
       "      <th>yu</th>\n",
       "      <th>zaddy</th>\n",
       "      <th>zero</th>\n",
       "      <th>zones</th>\n",
       "      <th>zoom</th>\n",
       "      <th>¼ð</th>\n",
       "      <th>ᕼoᗯ</th>\n",
       "      <th>ᗪᗩy</th>\n",
       "      <th>ᗯᗩտ</th>\n",
       "    </tr>\n",
       "  </thead>\n",
       "  <tbody>\n",
       "    <tr>\n",
       "      <th>0</th>\n",
       "      <td>0</td>\n",
       "      <td>0</td>\n",
       "      <td>0</td>\n",
       "      <td>0</td>\n",
       "      <td>0</td>\n",
       "      <td>0</td>\n",
       "      <td>0</td>\n",
       "      <td>0</td>\n",
       "      <td>0</td>\n",
       "      <td>0</td>\n",
       "      <td>...</td>\n",
       "      <td>0</td>\n",
       "      <td>0</td>\n",
       "      <td>0</td>\n",
       "      <td>0</td>\n",
       "      <td>0</td>\n",
       "      <td>0</td>\n",
       "      <td>0</td>\n",
       "      <td>0</td>\n",
       "      <td>0</td>\n",
       "      <td>0</td>\n",
       "    </tr>\n",
       "    <tr>\n",
       "      <th>1</th>\n",
       "      <td>0</td>\n",
       "      <td>0</td>\n",
       "      <td>0</td>\n",
       "      <td>0</td>\n",
       "      <td>0</td>\n",
       "      <td>0</td>\n",
       "      <td>0</td>\n",
       "      <td>0</td>\n",
       "      <td>0</td>\n",
       "      <td>0</td>\n",
       "      <td>...</td>\n",
       "      <td>0</td>\n",
       "      <td>0</td>\n",
       "      <td>0</td>\n",
       "      <td>0</td>\n",
       "      <td>0</td>\n",
       "      <td>0</td>\n",
       "      <td>0</td>\n",
       "      <td>0</td>\n",
       "      <td>0</td>\n",
       "      <td>0</td>\n",
       "    </tr>\n",
       "    <tr>\n",
       "      <th>2</th>\n",
       "      <td>0</td>\n",
       "      <td>0</td>\n",
       "      <td>0</td>\n",
       "      <td>0</td>\n",
       "      <td>0</td>\n",
       "      <td>0</td>\n",
       "      <td>0</td>\n",
       "      <td>0</td>\n",
       "      <td>0</td>\n",
       "      <td>0</td>\n",
       "      <td>...</td>\n",
       "      <td>0</td>\n",
       "      <td>0</td>\n",
       "      <td>0</td>\n",
       "      <td>0</td>\n",
       "      <td>0</td>\n",
       "      <td>0</td>\n",
       "      <td>0</td>\n",
       "      <td>0</td>\n",
       "      <td>0</td>\n",
       "      <td>0</td>\n",
       "    </tr>\n",
       "    <tr>\n",
       "      <th>3</th>\n",
       "      <td>0</td>\n",
       "      <td>0</td>\n",
       "      <td>0</td>\n",
       "      <td>0</td>\n",
       "      <td>0</td>\n",
       "      <td>0</td>\n",
       "      <td>0</td>\n",
       "      <td>0</td>\n",
       "      <td>0</td>\n",
       "      <td>0</td>\n",
       "      <td>...</td>\n",
       "      <td>0</td>\n",
       "      <td>0</td>\n",
       "      <td>0</td>\n",
       "      <td>0</td>\n",
       "      <td>0</td>\n",
       "      <td>0</td>\n",
       "      <td>0</td>\n",
       "      <td>0</td>\n",
       "      <td>0</td>\n",
       "      <td>0</td>\n",
       "    </tr>\n",
       "    <tr>\n",
       "      <th>4</th>\n",
       "      <td>0</td>\n",
       "      <td>0</td>\n",
       "      <td>0</td>\n",
       "      <td>0</td>\n",
       "      <td>0</td>\n",
       "      <td>0</td>\n",
       "      <td>0</td>\n",
       "      <td>0</td>\n",
       "      <td>0</td>\n",
       "      <td>0</td>\n",
       "      <td>...</td>\n",
       "      <td>0</td>\n",
       "      <td>0</td>\n",
       "      <td>0</td>\n",
       "      <td>0</td>\n",
       "      <td>0</td>\n",
       "      <td>0</td>\n",
       "      <td>0</td>\n",
       "      <td>0</td>\n",
       "      <td>0</td>\n",
       "      <td>0</td>\n",
       "    </tr>\n",
       "  </tbody>\n",
       "</table>\n",
       "<p>5 rows × 4753 columns</p>\n",
       "</div>"
      ],
      "text/plain": [
       "   000  0f  10  100  1000s  100k  100s  11  117lb  12  ...  yt  yu  zaddy  \\\n",
       "0    0   0   0    0      0     0     0   0      0   0  ...   0   0      0   \n",
       "1    0   0   0    0      0     0     0   0      0   0  ...   0   0      0   \n",
       "2    0   0   0    0      0     0     0   0      0   0  ...   0   0      0   \n",
       "3    0   0   0    0      0     0     0   0      0   0  ...   0   0      0   \n",
       "4    0   0   0    0      0     0     0   0      0   0  ...   0   0      0   \n",
       "\n",
       "   zero  zones  zoom  ¼ð  ᕼoᗯ  ᗪᗩy  ᗯᗩտ  \n",
       "0     0      0     0   0    0    0    0  \n",
       "1     0      0     0   0    0    0    0  \n",
       "2     0      0     0   0    0    0    0  \n",
       "3     0      0     0   0    0    0    0  \n",
       "4     0      0     0   0    0    0    0  \n",
       "\n",
       "[5 rows x 4753 columns]"
      ]
     },
     "execution_count": 421,
     "metadata": {},
     "output_type": "execute_result"
    }
   ],
   "source": [
    "X_train_cv.head()"
   ]
  },
  {
   "cell_type": "code",
   "execution_count": 422,
   "id": "e101032d-6137-41b2-967e-b8c168793429",
   "metadata": {},
   "outputs": [
    {
     "data": {
      "text/plain": [
       "men             178\n",
       "women           167\n",
       "like             93\n",
       "did              90\n",
       "feel             79\n",
       "woman            69\n",
       "think            62\n",
       "guy              60\n",
       "girl             59\n",
       "partner          59\n",
       "sex              59\n",
       "does             57\n",
       "man              56\n",
       "reddit           55\n",
       "relationship     50\n",
       "time             45\n",
       "guys             44\n",
       "dating           43\n",
       "just             40\n",
       "best             40\n",
       "dtype: int64"
      ]
     },
     "execution_count": 422,
     "metadata": {},
     "output_type": "execute_result"
    }
   ],
   "source": [
    "X_test_cv.sum().sort_values(ascending=False)[:20]"
   ]
  },
  {
   "cell_type": "markdown",
   "id": "d1a831cc-229b-4beb-8bae-6d89f4f6cc10",
   "metadata": {},
   "source": [
    "##### CountVectorize(stop_word=None, ngrams=(1,2))"
   ]
  },
  {
   "cell_type": "code",
   "execution_count": 423,
   "id": "ab5deae8-84b7-4047-bea1-cb2615228f0b",
   "metadata": {},
   "outputs": [],
   "source": [
    "cv2 = CountVectorizer(ngram_range=(1,2))\n",
    "cv2.fit(X_train)\n",
    "X_train_cv2 = cv2.transform(X_train).A\n",
    "X_test_cv2 = cv2.transform(X_test).A"
   ]
  },
  {
   "cell_type": "code",
   "execution_count": 424,
   "id": "18ff36f0-e94b-4a37-9a18-4d643522bf57",
   "metadata": {},
   "outputs": [],
   "source": [
    "X_train_cv2 = pd.DataFrame(X_train_cv2, columns=cv2.get_feature_names_out())\n",
    "X_test_cv2 = pd.DataFrame(X_test_cv2, columns=cv2.get_feature_names_out())"
   ]
  },
  {
   "cell_type": "code",
   "execution_count": 425,
   "id": "e6673270-c8b6-4d63-99d6-2a7790fff7b7",
   "metadata": {},
   "outputs": [
    {
     "data": {
      "text/plain": [
       "men             178\n",
       "women           167\n",
       "like             93\n",
       "did              90\n",
       "feel             79\n",
       "woman            69\n",
       "think            62\n",
       "guy              60\n",
       "girl             59\n",
       "partner          59\n",
       "sex              59\n",
       "does             57\n",
       "man              56\n",
       "reddit           55\n",
       "relationship     50\n",
       "time             45\n",
       "guys             44\n",
       "dating           43\n",
       "just             40\n",
       "best             40\n",
       "dtype: int64"
      ]
     },
     "execution_count": 425,
     "metadata": {},
     "output_type": "execute_result"
    }
   ],
   "source": [
    "X_test_cv.sum().sort_values(ascending=False)[:20]"
   ]
  },
  {
   "cell_type": "markdown",
   "id": "66cb9a45-c846-48c9-a3e8-565ac6806693",
   "metadata": {},
   "source": [
    "### Important features by subreddit"
   ]
  },
  {
   "cell_type": "code",
   "execution_count": 440,
   "id": "28c033d0-7559-4b67-8053-892e00bffcbc",
   "metadata": {},
   "outputs": [],
   "source": [
    "# AskWomen subreddit\n",
    "\n",
    "# Redefine X and y and resplit data\n",
    "X = modeling_df.loc[modeling_df['is_xx']==1, 'title']\n",
    "y = modeling_df.loc[modeling_df['is_xx']==1, 'is_xx']\n",
    "\n",
    "X_train, X_test, y_train, y_test = train_test_split(X, y, random_state=42)\n",
    "\n",
    "# Parameters: CV, stop_words='english', max_features=200, ngram_range=(1,2)\n",
    "cv = CountVectorizer(stop_words='english', max_features=200, ngram_range=(1,2))\n",
    "cv.fit(X_train)\n",
    "X_train = cv.transform(X_train)\n",
    "\n",
    "X_train_df = pd.DataFrame(X_train.toarray(),\n",
    "                          columns=cv.get_feature_names())"
   ]
  },
  {
   "cell_type": "code",
   "execution_count": 441,
   "id": "58fe5833-a20f-4a15-8b46-fae8d7b6ed23",
   "metadata": {},
   "outputs": [
    {
     "data": {
      "text/plain": [
       "women           378\n",
       "feel            181\n",
       "like            162\n",
       "did             153\n",
       "men             124\n",
       "think           107\n",
       "does            102\n",
       "guy             100\n",
       "partner          87\n",
       "relationship     87\n",
       "reddit           86\n",
       "ladies           85\n",
       "man              84\n",
       "woman            82\n",
       "make             68\n",
       "know             67\n",
       "sex              67\n",
       "girl             63\n",
       "life             63\n",
       "don              62\n",
       "dtype: int64"
      ]
     },
     "execution_count": 441,
     "metadata": {},
     "output_type": "execute_result"
    }
   ],
   "source": [
    "X_train_df.sum().sort_values(ascending=False).head(20)"
   ]
  },
  {
   "cell_type": "markdown",
   "id": "1a77edc8-fa4c-4182-9d6c-b5da8e7d4050",
   "metadata": {
    "tags": []
   },
   "source": [
    "# Modeling and Model Evaluation"
   ]
  },
  {
   "cell_type": "markdown",
   "id": "a828bad3-7bf8-4e24-8fdc-3f910f07dae7",
   "metadata": {},
   "source": [
    "### Logistic Regression Model"
   ]
  },
  {
   "cell_type": "code",
   "execution_count": 226,
   "id": "02d4e029-30a1-45ab-9c57-8d9b6af6ffa6",
   "metadata": {},
   "outputs": [
    {
     "data": {
      "text/plain": [
       "LogisticRegression(max_iter=10000)"
      ]
     },
     "execution_count": 226,
     "metadata": {},
     "output_type": "execute_result"
    }
   ],
   "source": [
    "lr = LogisticRegression(max_iter=10_000)\n",
    "\n",
    "lr.fit(X_train_cv, y_train)"
   ]
  },
  {
   "cell_type": "code",
   "execution_count": 336,
   "id": "ad10ae36-5e66-4189-a487-a37e78733da6",
   "metadata": {},
   "outputs": [
    {
     "data": {
      "text/plain": [
       "(0.89, 0.65)"
      ]
     },
     "execution_count": 336,
     "metadata": {},
     "output_type": "execute_result"
    }
   ],
   "source": [
    "lr.score(X_train_cv, y_train).round(2), lr.score(X_test_cv, y_test).round(2)"
   ]
  },
  {
   "cell_type": "code",
   "execution_count": 341,
   "id": "3ca0c55e-e9d3-4131-aa06-e0d9fdc521cc",
   "metadata": {},
   "outputs": [
    {
     "data": {
      "text/plain": [
       "0.65"
      ]
     },
     "execution_count": 341,
     "metadata": {},
     "output_type": "execute_result"
    }
   ],
   "source": [
    "#Save the score for later comparison:\n",
    "lr_cv = lr.score(X_test_cv, y_test).round(2)\n",
    "lr_cv"
   ]
  },
  {
   "cell_type": "markdown",
   "id": "c40e089a-9356-4150-929d-c0f991c5d5ef",
   "metadata": {},
   "source": [
    "The logistic regressin model predicts better than the baseline, but it is overfitting."
   ]
  },
  {
   "cell_type": "code",
   "execution_count": 233,
   "id": "53db27e0-9ab5-411b-98c5-47a08de48639",
   "metadata": {},
   "outputs": [
    {
     "data": {
      "text/plain": [
       "<sklearn.metrics._plot.confusion_matrix.ConfusionMatrixDisplay at 0x1d71fb7d820>"
      ]
     },
     "execution_count": 233,
     "metadata": {},
     "output_type": "execute_result"
    },
    {
     "data": {
      "image/png": "[encoded data removed]",
      "text/plain": [
       "<Figure size 432x288 with 2 Axes>"
      ]
     },
     "metadata": {
      "needs_background": "light"
     },
     "output_type": "display_data"
    }
   ],
   "source": [
    "ConfusionMatrixDisplay.from_estimator(lr,X_test_cv,y_test, cmap='Blues', normalize='true')"
   ]
  },
  {
   "cell_type": "code",
   "execution_count": 240,
   "id": "a372b593-6615-4d88-9f5e-2e4776ba536a",
   "metadata": {},
   "outputs": [],
   "source": [
    "preds = lr.predict(X_test_cv)"
   ]
  },
  {
   "cell_type": "code",
   "execution_count": 245,
   "id": "152dfcff-26cd-4aac-a901-1abda466e949",
   "metadata": {},
   "outputs": [
    {
     "data": {
      "text/plain": [
       "0.677027027027027"
      ]
     },
     "execution_count": 245,
     "metadata": {},
     "output_type": "execute_result"
    }
   ],
   "source": [
    "#calculate recall/sensitivity:\n",
    "recall_score(y_test, preds)"
   ]
  },
  {
   "cell_type": "code",
   "execution_count": 246,
   "id": "2ceead95-af45-4f26-afb6-7d0119a181ea",
   "metadata": {},
   "outputs": [
    {
     "data": {
      "text/plain": [
       "0.6498054474708171"
      ]
     },
     "execution_count": 246,
     "metadata": {},
     "output_type": "execute_result"
    }
   ],
   "source": [
    "#calculate precision score:\n",
    "precision_score(y_test, preds)"
   ]
  },
  {
   "cell_type": "code",
   "execution_count": 260,
   "id": "2c5d3105-c5b5-4933-85d4-46b373ed97b4",
   "metadata": {},
   "outputs": [
    {
     "data": {
      "text/plain": [
       "0.3544568245125348"
      ]
     },
     "execution_count": 260,
     "metadata": {},
     "output_type": "execute_result"
    }
   ],
   "source": [
    "#calculate mean square error\n",
    "mean_squared_error(y_test, preds)"
   ]
  },
  {
   "cell_type": "markdown",
   "id": "d5b0922d-1016-4da1-9c54-5dd73516beba",
   "metadata": {},
   "source": [
    "### Random Forest Model"
   ]
  },
  {
   "cell_type": "code",
   "execution_count": 248,
   "id": "168e0da3-9b44-4bbb-ae21-df6f26d0c6dd",
   "metadata": {},
   "outputs": [],
   "source": [
    "rfc = RandomForestClassifier()\n",
    "etc = ExtraTreesClassifier()"
   ]
  },
  {
   "cell_type": "code",
   "execution_count": 251,
   "id": "fec578b3-4482-4a3f-b2c7-448e7b863555",
   "metadata": {},
   "outputs": [
    {
     "name": "stdout",
     "output_type": "stream",
     "text": [
      "[0.66357309 0.63225058 0.6387921  0.65389082 0.65272938]\n",
      "0.6482471954318482\n"
     ]
    }
   ],
   "source": [
    "rfc_scores = cross_val_score(rfc, X_train_cv, y_train)\n",
    "print(rfc_scores)\n",
    "print(rfc_scores.mean())"
   ]
  },
  {
   "cell_type": "code",
   "execution_count": 340,
   "id": "70dd7054-162e-445a-b789-1c42482426ec",
   "metadata": {},
   "outputs": [
    {
     "data": {
      "text/plain": [
       "0.65"
      ]
     },
     "execution_count": 340,
     "metadata": {},
     "output_type": "execute_result"
    }
   ],
   "source": [
    "#Save the score for later comparison:\n",
    "rfc_cv = rfc_scores.mean().round(2)\n",
    "rfc_cv"
   ]
  },
  {
   "cell_type": "markdown",
   "id": "d03ddd14-93a2-40f1-89fa-cd6cce9bcf67",
   "metadata": {},
   "source": [
    "The random tree model's score did similarly to the logistic regression."
   ]
  },
  {
   "cell_type": "markdown",
   "id": "f58d5626-2107-4287-8d09-178e3ba5e3b1",
   "metadata": {},
   "source": [
    "#### Try grid search"
   ]
  },
  {
   "cell_type": "code",
   "execution_count": 253,
   "id": "77b07d15-2ddb-45e4-8598-861e6593e963",
   "metadata": {},
   "outputs": [
    {
     "data": {
      "text/plain": [
       "GridSearchCV(estimator=RandomForestClassifier(), n_jobs=-1,\n",
       "             param_grid={'max_depth': [None, 5, 7, 10, 12, 15],\n",
       "                         'min_samples_split': [2, 3, 5],\n",
       "                         'n_estimators': [100, 150, 200]})"
      ]
     },
     "execution_count": 253,
     "metadata": {},
     "output_type": "execute_result"
    }
   ],
   "source": [
    "grid = {\n",
    "    'n_estimators': [100, 150, 200],\n",
    "    'max_depth': [None, 5, 7, 10, 12, 15],\n",
    "    'min_samples_split': [2, 3, 5]\n",
    "}\n",
    "\n",
    "gs = GridSearchCV(rfc, param_grid=grid, n_jobs=-1)\n",
    "gs.fit(X_train_cv, y_train)"
   ]
  },
  {
   "cell_type": "code",
   "execution_count": 254,
   "id": "944ceb22-3678-4701-ae88-036b129d11e4",
   "metadata": {},
   "outputs": [
    {
     "data": {
      "text/plain": [
       "(0.6556785262913949,\n",
       " RandomForestClassifier(min_samples_split=5, n_estimators=200))"
      ]
     },
     "execution_count": 254,
     "metadata": {},
     "output_type": "execute_result"
    }
   ],
   "source": [
    "gs.best_score_, gs.best_estimator_"
   ]
  },
  {
   "cell_type": "code",
   "execution_count": 339,
   "id": "0549b74e-8de1-407e-a7fd-9d6d92c35598",
   "metadata": {},
   "outputs": [
    {
     "data": {
      "text/plain": [
       "0.66"
      ]
     },
     "execution_count": 339,
     "metadata": {},
     "output_type": "execute_result"
    }
   ],
   "source": [
    "#Save the score for later comparison:\n",
    "rfc_gs_cv = gs.best_score_.round(2)\n",
    "rfc_gs_cv"
   ]
  },
  {
   "cell_type": "code",
   "execution_count": 258,
   "id": "e0ddd1e8-f693-4024-a860-29c45259f511",
   "metadata": {},
   "outputs": [
    {
     "data": {
      "text/plain": [
       "0.3467966573816156"
      ]
     },
     "execution_count": 258,
     "metadata": {},
     "output_type": "execute_result"
    }
   ],
   "source": [
    "tree_preds = gs.best_estimator_.predict(X_test_cv)\n",
    "mean_squared_error(y_test, tree_preds)"
   ]
  },
  {
   "cell_type": "markdown",
   "id": "1bf89895-365e-4ee0-819b-3b247d4320c4",
   "metadata": {},
   "source": [
    "### KNN Model"
   ]
  },
  {
   "cell_type": "code",
   "execution_count": 262,
   "id": "b77cf482-a6ab-4f45-922e-e5618b7ea794",
   "metadata": {},
   "outputs": [
    {
     "data": {
      "text/plain": [
       "KNeighborsClassifier()"
      ]
     },
     "execution_count": 262,
     "metadata": {},
     "output_type": "execute_result"
    }
   ],
   "source": [
    "ss = StandardScaler()\n",
    "\n",
    "ss.fit(X_train_cv)\n",
    "X_train_scaled = ss.transform(X_train_cv)\n",
    "X_test_scaled = ss.transform(X_test_cv)\n",
    "\n",
    "knn = KNeighborsClassifier()\n",
    "\n",
    "knn.fit(X_train_scaled, y_train)"
   ]
  },
  {
   "cell_type": "code",
   "execution_count": 343,
   "id": "64bf69f2-3bc3-4b17-9057-ebe125fa0385",
   "metadata": {},
   "outputs": [
    {
     "data": {
      "text/plain": [
       "(0.7302066403529138, 0.5724233983286908)"
      ]
     },
     "execution_count": 343,
     "metadata": {},
     "output_type": "execute_result"
    }
   ],
   "source": [
    "#Save the score for later comparison:\n",
    "knn.score(X_train_scaled, y_train), knn.score(X_test_scaled, y_test)\n"
   ]
  },
  {
   "cell_type": "code",
   "execution_count": 345,
   "id": "ee171adc-3d01-40d8-ab73-ad31adce412b",
   "metadata": {},
   "outputs": [
    {
     "data": {
      "text/plain": [
       "0.57"
      ]
     },
     "execution_count": 345,
     "metadata": {},
     "output_type": "execute_result"
    }
   ],
   "source": [
    "#Save the score for later comparison:\n",
    "knn_cv = knn.score(X_test_scaled, y_test).round(2)\n",
    "knn_cv"
   ]
  },
  {
   "cell_type": "code",
   "execution_count": 263,
   "id": "63863d7e-12e8-4631-a83e-a33027eeaa89",
   "metadata": {},
   "outputs": [],
   "source": [
    "knn_preds = knn.predict(X_test_scaled)"
   ]
  },
  {
   "cell_type": "code",
   "execution_count": 266,
   "id": "511b0bb1-6c83-446b-8939-11731b418f2b",
   "metadata": {},
   "outputs": [
    {
     "data": {
      "text/plain": [
       "<sklearn.metrics._plot.confusion_matrix.ConfusionMatrixDisplay at 0x1d71b464370>"
      ]
     },
     "execution_count": 266,
     "metadata": {},
     "output_type": "execute_result"
    },
    {
     "data": {
      "image/png": "[encoded data removed]",
      "text/plain": [
       "<Figure size 432x288 with 2 Axes>"
      ]
     },
     "metadata": {
      "needs_background": "light"
     },
     "output_type": "display_data"
    }
   ],
   "source": [
    "ConfusionMatrixDisplay.from_estimator(knn, X_test_scaled, y_test, cmap='Blues', normalize='true')"
   ]
  },
  {
   "cell_type": "code",
   "execution_count": 267,
   "id": "317626f0-c3a1-48a3-beb0-24c06471b37e",
   "metadata": {},
   "outputs": [
    {
     "data": {
      "text/plain": [
       "0.4275766016713092"
      ]
     },
     "execution_count": 267,
     "metadata": {},
     "output_type": "execute_result"
    }
   ],
   "source": [
    "mean_squared_error(y_test, knn_preds)"
   ]
  },
  {
   "cell_type": "code",
   "execution_count": 268,
   "id": "a34e0e67-7f00-4717-97eb-feb18ac716d6",
   "metadata": {},
   "outputs": [
    {
     "data": {
      "text/plain": [
       "0.677027027027027"
      ]
     },
     "execution_count": 268,
     "metadata": {},
     "output_type": "execute_result"
    }
   ],
   "source": [
    "#calculate recall/sensitivity:\n",
    "recall_score(y_test, preds)"
   ]
  },
  {
   "cell_type": "code",
   "execution_count": 269,
   "id": "9ac8e5af-336e-4680-afeb-071b8255a33c",
   "metadata": {},
   "outputs": [
    {
     "data": {
      "text/plain": [
       "0.6498054474708171"
      ]
     },
     "execution_count": 269,
     "metadata": {},
     "output_type": "execute_result"
    }
   ],
   "source": [
    "#calculate precision:\n",
    "precision_score(y_test, preds)"
   ]
  },
  {
   "cell_type": "markdown",
   "id": "6f93a71a-941e-42e3-b4e3-bc5144e156ca",
   "metadata": {},
   "source": [
    "### Voting Classifier"
   ]
  },
  {
   "cell_type": "code",
   "execution_count": 270,
   "id": "9e023992-e393-4fb4-bfc1-95ea1de443f0",
   "metadata": {},
   "outputs": [],
   "source": [
    "vc = VotingClassifier(\n",
    "    [\n",
    "        ('lr', LogisticRegression()),\n",
    "        ('knn', KNeighborsClassifier(n_neighbors=12, weights='distance')),\n",
    "        ('rfc', RandomForestClassifier(n_estimators=200))\n",
    "    ],\n",
    "    n_jobs=-1,\n",
    ")"
   ]
  },
  {
   "cell_type": "code",
   "execution_count": 271,
   "id": "c2594d9b-71cf-4fc3-b427-0e1bc0e78887",
   "metadata": {},
   "outputs": [
    {
     "data": {
      "text/plain": [
       "0.3635097493036212"
      ]
     },
     "execution_count": 271,
     "metadata": {},
     "output_type": "execute_result"
    }
   ],
   "source": [
    "vc.fit(X_train_scaled, y_train)\n",
    "vc_preds = vc.predict(X_test_scaled)\n",
    "mean_squared_error(y_test, vc_preds)"
   ]
  },
  {
   "cell_type": "code",
   "execution_count": 279,
   "id": "c3f3964c-c052-4282-b7b3-684351986aea",
   "metadata": {},
   "outputs": [
    {
     "data": {
      "text/plain": [
       "(0.990016252612027, 0.6364902506963789)"
      ]
     },
     "execution_count": 279,
     "metadata": {},
     "output_type": "execute_result"
    }
   ],
   "source": [
    "#Accuracy score:\n",
    "vc.score(X_train_scaled, y_train), vc.score(X_test_scaled, y_test)"
   ]
  },
  {
   "cell_type": "code",
   "execution_count": 346,
   "id": "c8350e64-05a8-4d84-ac1e-c99e7fa1e8ff",
   "metadata": {},
   "outputs": [],
   "source": [
    "#Save the score for later comparison:\n",
    "vc_cv = vc.score(X_test_scaled, y_test).round(2)"
   ]
  },
  {
   "cell_type": "markdown",
   "id": "d278e1a3-d506-4fd0-82a3-fa53dd2c60de",
   "metadata": {},
   "source": [
    "The vc model is overfitting. Although the accuracy score is higher than the baseline, it is still pretty low."
   ]
  },
  {
   "cell_type": "markdown",
   "id": "01bc2e65-4c41-4543-bdab-a54183fd74b5",
   "metadata": {},
   "source": [
    "#### Pipeline: CountVectorizer, Logistic Rgression"
   ]
  },
  {
   "cell_type": "code",
   "execution_count": 272,
   "id": "ef9bfb44-6e42-49b0-a271-44907e9c3d66",
   "metadata": {},
   "outputs": [
    {
     "data": {
      "text/plain": [
       "(0.909914093336429, 0.7054317548746518)"
      ]
     },
     "execution_count": 272,
     "metadata": {},
     "output_type": "execute_result"
    }
   ],
   "source": [
    "pipe = Pipeline([\n",
    "    ('cv', CountVectorizer()),\n",
    "    ('lr', LogisticRegression(max_iter=10_000, n_jobs=-1, random_state=123))\n",
    "])\n",
    "\n",
    "pipe.fit(X_train, y_train)\n",
    "pipe.score(X_train, y_train), pipe.score(X_test, y_test)"
   ]
  },
  {
   "cell_type": "markdown",
   "id": "17e06420-2ab8-428d-b9a5-e4684894df4c",
   "metadata": {},
   "source": [
    "Grid search:"
   ]
  },
  {
   "cell_type": "code",
   "execution_count": 275,
   "id": "320e9cbc-d270-4327-ad02-e8d54deab407",
   "metadata": {},
   "outputs": [
    {
     "data": {
      "text/plain": [
       "(0.9911771534710936, 0.7284122562674095)"
      ]
     },
     "execution_count": 275,
     "metadata": {},
     "output_type": "execute_result"
    }
   ],
   "source": [
    "grid2 = {\n",
    "    \"cv__min_df\": [3,2,1],\n",
    "    \"cv__stop_words\": [None,'english'],\n",
    "    'cv__ngram_range': [(1,2), (1,3)],\n",
    "    \n",
    "}\n",
    "gs2 = GridSearchCV(pipe, param_grid=grid2, n_jobs=-1)\n",
    "gs2.fit(X_train, y_train)\n",
    "gs2.score(X_train, y_train), gs2.score(X_test, y_test)"
   ]
  },
  {
   "cell_type": "code",
   "execution_count": 276,
   "id": "c62a531e-ecd1-476d-b9fb-4833dfa29ad6",
   "metadata": {},
   "outputs": [
    {
     "data": {
      "text/plain": [
       "{'cv__min_df': 1, 'cv__ngram_range': (1, 2), 'cv__stop_words': None}"
      ]
     },
     "execution_count": 276,
     "metadata": {},
     "output_type": "execute_result"
    }
   ],
   "source": [
    "gs2.best_params_"
   ]
  },
  {
   "cell_type": "markdown",
   "id": "5da69356-f1b9-4d50-bb9b-ac3cf7ee9dc8",
   "metadata": {},
   "source": [
    "Conducting pipeline with count vectorizer resulted the best score so far. \n",
    "<br>\n",
    "Adding grid search indicates that the best results so far are acieved when:\n",
    "<br>\n",
    "    - The model ignores terms that appear in less than 1% of the documents ('cv__min_df': 1)\n",
    "<br>\n",
    "    - Using both  unigrams and bigrams ('cv__ngram_range': (1, 2))\n",
    "<br>\n",
    "    - Using defaul stop words ('cv__stop_words': None)"
   ]
  },
  {
   "cell_type": "code",
   "execution_count": 347,
   "id": "914980dc-3179-42c9-98f1-b1ca3e17839b",
   "metadata": {},
   "outputs": [],
   "source": [
    "#Save the score for later comparison:\n",
    "cv_lr_gs = gs2.score(X_test, y_test).round(2)"
   ]
  },
  {
   "cell_type": "markdown",
   "id": "2553ccb0-a007-4f50-91ea-3e0c96936516",
   "metadata": {},
   "source": [
    "### Compare TfidfVectorizer to CountVectorizer"
   ]
  },
  {
   "cell_type": "markdown",
   "id": "3487d2fb-cf5d-49f6-8257-fc486c13959c",
   "metadata": {},
   "source": [
    "Try to improve the results by using TfidfVectorizer instead of CountVectorizer:"
   ]
  },
  {
   "cell_type": "code",
   "execution_count": 280,
   "id": "83fb56bd-1178-4f0e-8f51-5ba5449e4ffa",
   "metadata": {},
   "outputs": [
    {
     "data": {
      "text/plain": [
       "(0.8558161133039238, 0.6448467966573816)"
      ]
     },
     "execution_count": 280,
     "metadata": {},
     "output_type": "execute_result"
    }
   ],
   "source": [
    "pipe2 = Pipeline([\n",
    "    ('tf', TfidfVectorizer(min_df=1, stop_words='english')),\n",
    "    ('lr', LogisticRegression())\n",
    "])\n",
    "\n",
    "pipe2.fit(X_train, y_train)\n",
    "pipe2.score(X_train, y_train), pipe2.score(X_test, y_test)"
   ]
  },
  {
   "cell_type": "code",
   "execution_count": 283,
   "id": "65472eb4-4bb9-4002-929b-c1fac3f50ce0",
   "metadata": {},
   "outputs": [
    {
     "data": {
      "text/plain": [
       "(0.9911771534710936, 0.7284122562674095)"
      ]
     },
     "execution_count": 283,
     "metadata": {},
     "output_type": "execute_result"
    }
   ],
   "source": [
    "grid3 = {\n",
    "    \"cv__min_df\": [3,2,1],\n",
    "    \"cv__stop_words\": [None,'english'],\n",
    "    'cv__ngram_range': [(1,2), (1,3)],\n",
    "    \n",
    "}\n",
    "gs3 = GridSearchCV(pipe, param_grid=grid3, n_jobs=-1)\n",
    "gs3.fit(X_train, y_train)\n",
    "gs3.score(X_train, y_train), gs3.score(X_test, y_test)"
   ]
  },
  {
   "cell_type": "markdown",
   "id": "d04171c0-56dd-48cf-98c2-ed5ea60c1ec0",
   "metadata": {},
   "source": [
    "TfidfVectorizer scores are similar to CountVectorizer scores."
   ]
  },
  {
   "cell_type": "code",
   "execution_count": 349,
   "id": "eb209b66-2a8e-433e-af0f-e8a242f91ea8",
   "metadata": {},
   "outputs": [],
   "source": [
    "#Save the score for later comparison:\n",
    "tfidf_lr_gs = gs3.score(X_test, y_test).round(2)"
   ]
  },
  {
   "cell_type": "code",
   "execution_count": null,
   "id": "bd5f0d54-f118-402f-81ee-f59052138adc",
   "metadata": {},
   "outputs": [],
   "source": []
  },
  {
   "cell_type": "code",
   "execution_count": null,
   "id": "6354658e-54f4-4042-8072-aa9ddec512a5",
   "metadata": {},
   "outputs": [],
   "source": [
    "### List of "
   ]
  },
  {
   "cell_type": "code",
   "execution_count": 298,
   "id": "17f0c9ce-505b-4ca6-9c90-534b767516df",
   "metadata": {},
   "outputs": [],
   "source": [
    "cv2 = CountVectorizer(stop_words=None, ngram_range=(1,2))"
   ]
  },
  {
   "cell_type": "code",
   "execution_count": 299,
   "id": "4122c525-aafc-411e-a518-d4211cd24f46",
   "metadata": {},
   "outputs": [],
   "source": [
    "cv2.fit(X_train)\n",
    "X_train_cv2 = cv2.transform(X_train).A\n",
    "X_test_cv2 = cv2.transform(X_test).A"
   ]
  },
  {
   "cell_type": "code",
   "execution_count": 301,
   "id": "6c05d1cc-a83b-4ab6-bb5c-12ee7e403743",
   "metadata": {},
   "outputs": [],
   "source": [
    "X_train_cv2 = pd.DataFrame(X_train_cv2, columns=cv2.get_feature_names_out())\n",
    "X_test_cv2 = pd.DataFrame(X_test_cv2, columns=cv2.get_feature_names_out())"
   ]
  },
  {
   "cell_type": "code",
   "execution_count": 302,
   "id": "53ecf47f-9e6d-4bf0-a004-e5cd65c045ad",
   "metadata": {},
   "outputs": [
    {
     "data": {
      "text/plain": [
       "you       879\n",
       "what      562\n",
       "do        469\n",
       "to        453\n",
       "how       389\n",
       "your      351\n",
       "the       345\n",
       "is        282\n",
       "and       264\n",
       "of        242\n",
       "it        233\n",
       "in        226\n",
       "do you    225\n",
       "for       195\n",
       "with      194\n",
       "that      187\n",
       "men       178\n",
       "women     167\n",
       "why       166\n",
       "on        154\n",
       "dtype: int64"
      ]
     },
     "execution_count": 302,
     "metadata": {},
     "output_type": "execute_result"
    }
   ],
   "source": [
    "X_test_cv2.sum().sort_values(ascending=False)[:20]"
   ]
  },
  {
   "cell_type": "markdown",
   "id": "b8bda3f8-bac2-4ef3-a421-4a1c8a071d8f",
   "metadata": {},
   "source": [
    "# Comparing Models Performances"
   ]
  },
  {
   "cell_type": "code",
   "execution_count": 354,
   "id": "f620df26-51d1-430c-a41f-ff8de3f3810d",
   "metadata": {},
   "outputs": [
    {
     "data": {
      "text/plain": [
       "1    0.52\n",
       "0    0.48\n",
       "Name: is_xx, dtype: float64"
      ]
     },
     "execution_count": 354,
     "metadata": {},
     "output_type": "execute_result"
    }
   ],
   "source": [
    "y.value_counts(normalize=True).round(2)"
   ]
  },
  {
   "cell_type": "code",
   "execution_count": 355,
   "id": "bdd840a0-7f7d-41cb-a8db-b68b82c2c7e8",
   "metadata": {},
   "outputs": [],
   "source": [
    "baseline_score = 0.52"
   ]
  },
  {
   "cell_type": "code",
   "execution_count": 356,
   "id": "6b4a8601-8ae4-48e3-acfa-b36aa74fb375",
   "metadata": {},
   "outputs": [],
   "source": [
    "# Generate a dataframe of model & accuracy score\n",
    "list_of_models = [lr_cv, cv_lr_gs,\n",
    "                  rfc_cv, rfc_gs_cv, \n",
    "                  knn_cv, tfidf_lr_gs,\n",
    "                  baseline_score]"
   ]
  },
  {
   "cell_type": "code",
   "execution_count": 357,
   "id": "dd167ec4-e385-4d43-9a57-b78221eb3e9a",
   "metadata": {},
   "outputs": [
    {
     "data": {
      "text/plain": [
       "[0.65, 0.73, 0.65, 0.66, 0.57, 0.73, 0.52]"
      ]
     },
     "execution_count": 357,
     "metadata": {},
     "output_type": "execute_result"
    }
   ],
   "source": [
    "list_of_models"
   ]
  },
  {
   "cell_type": "code",
   "execution_count": 395,
   "id": "29c00533-75db-41b9-a442-3d0615cbd23a",
   "metadata": {},
   "outputs": [
    {
     "data": {
      "text/html": [
       "<div>\n",
       "<style scoped>\n",
       "    .dataframe tbody tr th:only-of-type {\n",
       "        vertical-align: middle;\n",
       "    }\n",
       "\n",
       "    .dataframe tbody tr th {\n",
       "        vertical-align: top;\n",
       "    }\n",
       "\n",
       "    .dataframe thead th {\n",
       "        text-align: right;\n",
       "    }\n",
       "</style>\n",
       "<table border=\"1\" class=\"dataframe\">\n",
       "  <thead>\n",
       "    <tr style=\"text-align: right;\">\n",
       "      <th></th>\n",
       "      <th>accuracy_score</th>\n",
       "    </tr>\n",
       "  </thead>\n",
       "  <tbody>\n",
       "    <tr>\n",
       "      <th>lr_cv</th>\n",
       "      <td>0.65</td>\n",
       "    </tr>\n",
       "    <tr>\n",
       "      <th>cv_lr_gs</th>\n",
       "      <td>0.73</td>\n",
       "    </tr>\n",
       "    <tr>\n",
       "      <th>rfc_cv</th>\n",
       "      <td>0.65</td>\n",
       "    </tr>\n",
       "    <tr>\n",
       "      <th>rfc_gs_cv</th>\n",
       "      <td>0.66</td>\n",
       "    </tr>\n",
       "    <tr>\n",
       "      <th>knn_cv</th>\n",
       "      <td>0.57</td>\n",
       "    </tr>\n",
       "    <tr>\n",
       "      <th>tfidf_lr_gs</th>\n",
       "      <td>0.73</td>\n",
       "    </tr>\n",
       "    <tr>\n",
       "      <th>baseline_score</th>\n",
       "      <td>0.52</td>\n",
       "    </tr>\n",
       "  </tbody>\n",
       "</table>\n",
       "</div>"
      ],
      "text/plain": [
       "                accuracy_score\n",
       "lr_cv                     0.65\n",
       "cv_lr_gs                  0.73\n",
       "rfc_cv                    0.65\n",
       "rfc_gs_cv                 0.66\n",
       "knn_cv                    0.57\n",
       "tfidf_lr_gs               0.73\n",
       "baseline_score            0.52"
      ]
     },
     "execution_count": 395,
     "metadata": {},
     "output_type": "execute_result"
    }
   ],
   "source": [
    "accuracy_scores_df = pd.DataFrame(np.array(list_of_models),columns=['accuracy_score'], index = ['lr_cv', 'cv_lr_gs',\n",
    "                  'rfc_cv', 'rfc_gs_cv', \n",
    "                  'knn_cv', 'tfidf_lr_gs',\n",
    "                  'baseline_score'])\n",
    "accuracy_scores_df"
   ]
  },
  {
   "cell_type": "code",
   "execution_count": 396,
   "id": "9429abde-997d-4d93-bde3-e4e3c237b61e",
   "metadata": {},
   "outputs": [
    {
     "data": {
      "text/html": [
       "<div>\n",
       "<style scoped>\n",
       "    .dataframe tbody tr th:only-of-type {\n",
       "        vertical-align: middle;\n",
       "    }\n",
       "\n",
       "    .dataframe tbody tr th {\n",
       "        vertical-align: top;\n",
       "    }\n",
       "\n",
       "    .dataframe thead th {\n",
       "        text-align: right;\n",
       "    }\n",
       "</style>\n",
       "<table border=\"1\" class=\"dataframe\">\n",
       "  <thead>\n",
       "    <tr style=\"text-align: right;\">\n",
       "      <th></th>\n",
       "      <th>accuracy_score</th>\n",
       "    </tr>\n",
       "  </thead>\n",
       "  <tbody>\n",
       "    <tr>\n",
       "      <th>baseline_score</th>\n",
       "      <td>0.52</td>\n",
       "    </tr>\n",
       "    <tr>\n",
       "      <th>knn_cv</th>\n",
       "      <td>0.57</td>\n",
       "    </tr>\n",
       "    <tr>\n",
       "      <th>lr_cv</th>\n",
       "      <td>0.65</td>\n",
       "    </tr>\n",
       "    <tr>\n",
       "      <th>rfc_cv</th>\n",
       "      <td>0.65</td>\n",
       "    </tr>\n",
       "    <tr>\n",
       "      <th>rfc_gs_cv</th>\n",
       "      <td>0.66</td>\n",
       "    </tr>\n",
       "    <tr>\n",
       "      <th>cv_lr_gs</th>\n",
       "      <td>0.73</td>\n",
       "    </tr>\n",
       "    <tr>\n",
       "      <th>tfidf_lr_gs</th>\n",
       "      <td>0.73</td>\n",
       "    </tr>\n",
       "  </tbody>\n",
       "</table>\n",
       "</div>"
      ],
      "text/plain": [
       "                accuracy_score\n",
       "baseline_score            0.52\n",
       "knn_cv                    0.57\n",
       "lr_cv                     0.65\n",
       "rfc_cv                    0.65\n",
       "rfc_gs_cv                 0.66\n",
       "cv_lr_gs                  0.73\n",
       "tfidf_lr_gs               0.73"
      ]
     },
     "execution_count": 396,
     "metadata": {},
     "output_type": "execute_result"
    }
   ],
   "source": [
    "accuracy_scores_df = accuracy_scores_df.sort_values('accuracy_score')\n",
    "accuracy_scores_df"
   ]
  },
  {
   "cell_type": "code",
   "execution_count": 400,
   "id": "cb6e1467-2915-40c7-a336-5e1b4d084f3b",
   "metadata": {},
   "outputs": [
    {
     "data": {
      "image/png": "[encoded data removed]",
      "text/plain": [
       "<Figure size 1440x864 with 1 Axes>"
      ]
     },
     "metadata": {
      "needs_background": "light"
     },
     "output_type": "display_data"
    }
   ],
   "source": [
    "plt.figure(figsize=(20,12))\n",
    "sns.barplot(data=models_df, x=accuracy_scores_df['accuracy_score'], y=accuracy_scores_df.index )\n",
    "plt.xlabel('Accuracy', size=28)\n",
    "plt.ylabel('Model: Transformer, Estimator', size=28)\n",
    "plt.yticks(size=28)\n",
    "plt.xticks(size=28)\n",
    "plt.title('How did the models compare to the baseline?', size=40)\n",
    "plt.savefig('./Figures/models_compared_to_the_baseline.png')"
   ]
  },
  {
   "cell_type": "code",
   "execution_count": null,
   "id": "50e46c3f-ced5-453c-90d3-8327b9a65e20",
   "metadata": {},
   "outputs": [],
   "source": []
  },
  {
   "cell_type": "code",
   "execution_count": null,
   "id": "d25ffc4b-cc8f-4523-b775-f8fa19ef973c",
   "metadata": {},
   "outputs": [],
   "source": []
  }
 ],
 "metadata": {
  "kernelspec": {
   "display_name": "Python 3 (ipykernel)",
   "language": "python",
   "name": "python3"
  },
  "language_info": {
   "codemirror_mode": {
    "name": "ipython",
    "version": 3
   },
   "file_extension": ".py",
   "mimetype": "text/x-python",
   "name": "python",
   "nbconvert_exporter": "python",
   "pygments_lexer": "ipython3",
   "version": "3.9.7"
  }
 },
 "nbformat": 4,
 "nbformat_minor": 5
}
