{
 "cells": [
  {
   "cell_type": "code",
   "execution_count": 2,
   "id": "481c3b18-df27-49cd-8305-e0f7812a477e",
   "metadata": {},
   "outputs": [],
   "source": [
    "import pandas as pd\n",
    "import numpy as np\n",
    "import matplotlib.pyplot as plt\n",
    "import seaborn as sns\n",
    "\n",
    "from sklearn.model_selection import train_test_split, cross_val_score, GridSearchCV\n",
    "from sklearn.feature_extraction.text import CountVectorizer\n",
    "from sklearn.pipeline import Pipeline, make_pipeline\n",
    "from sklearn.linear_model import LogisticRegression\n",
    "from sklearn.feature_extraction.text import TfidfVectorizer\n",
    "\n",
    "from sklearn.ensemble import RandomForestClassifier, ExtraTreesClassifier, VotingClassifier\n",
    "from sklearn.tree import plot_tree, export_text\n",
    "from sklearn.neighbors import KNeighborsClassifier\n",
    "from sklearn.preprocessing import StandardScaler\n",
    "from sklearn.metrics import ConfusionMatrixDisplay, classification_report, mean_squared_error, recall_score, precision_score"
   ]
  },
  {
   "cell_type": "code",
   "execution_count": 3,
   "id": "1af1a671-5168-4a44-a237-e178ccbb0436",
   "metadata": {
    "tags": []
   },
   "outputs": [],
   "source": [
    "modeling_df = pd.read_csv('./Data/modeling_df.csv', index_col=False)"
   ]
  },
  {
   "cell_type": "code",
   "execution_count": 4,
   "id": "14fa1801-4f2e-41f8-82cb-2c242097905b",
   "metadata": {},
   "outputs": [
    {
     "data": {
      "text/html": [
       "<div>\n",
       "<style scoped>\n",
       "    .dataframe tbody tr th:only-of-type {\n",
       "        vertical-align: middle;\n",
       "    }\n",
       "\n",
       "    .dataframe tbody tr th {\n",
       "        vertical-align: top;\n",
       "    }\n",
       "\n",
       "    .dataframe thead th {\n",
       "        text-align: right;\n",
       "    }\n",
       "</style>\n",
       "<table border=\"1\" class=\"dataframe\">\n",
       "  <thead>\n",
       "    <tr style=\"text-align: right;\">\n",
       "      <th></th>\n",
       "      <th>title</th>\n",
       "      <th>author</th>\n",
       "      <th>subreddit</th>\n",
       "      <th>is_il</th>\n",
       "    </tr>\n",
       "  </thead>\n",
       "  <tbody>\n",
       "    <tr>\n",
       "      <th>3627</th>\n",
       "      <td>I’m at a dead end</td>\n",
       "      <td>Dry-Independent-1465</td>\n",
       "      <td>Jewish</td>\n",
       "      <td>0</td>\n",
       "    </tr>\n",
       "    <tr>\n",
       "      <th>2944</th>\n",
       "      <td>So I have no contact with my dads side and I t...</td>\n",
       "      <td>Moth_Noises902</td>\n",
       "      <td>Jewish</td>\n",
       "      <td>0</td>\n",
       "    </tr>\n",
       "    <tr>\n",
       "      <th>121</th>\n",
       "      <td>College Students Survey about BirthRight! Scho...</td>\n",
       "      <td>fake03883</td>\n",
       "      <td>Israel</td>\n",
       "      <td>1</td>\n",
       "    </tr>\n",
       "    <tr>\n",
       "      <th>3021</th>\n",
       "      <td>Kosha Dillz &amp;amp; Gangstagrass celebrate Chanu...</td>\n",
       "      <td>nu_lets_learn</td>\n",
       "      <td>Jewish</td>\n",
       "      <td>0</td>\n",
       "    </tr>\n",
       "    <tr>\n",
       "      <th>2311</th>\n",
       "      <td>Holocaust was really good event and should hap...</td>\n",
       "      <td>Ok_Noise2854</td>\n",
       "      <td>Jewish</td>\n",
       "      <td>0</td>\n",
       "    </tr>\n",
       "  </tbody>\n",
       "</table>\n",
       "</div>"
      ],
      "text/plain": [
       "                                                  title                author  \\\n",
       "3627                                  I’m at a dead end  Dry-Independent-1465   \n",
       "2944  So I have no contact with my dads side and I t...        Moth_Noises902   \n",
       "121   College Students Survey about BirthRight! Scho...             fake03883   \n",
       "3021  Kosha Dillz &amp; Gangstagrass celebrate Chanu...         nu_lets_learn   \n",
       "2311  Holocaust was really good event and should hap...          Ok_Noise2854   \n",
       "\n",
       "     subreddit  is_il  \n",
       "3627    Jewish      0  \n",
       "2944    Jewish      0  \n",
       "121     Israel      1  \n",
       "3021    Jewish      0  \n",
       "2311    Jewish      0  "
      ]
     },
     "execution_count": 4,
     "metadata": {},
     "output_type": "execute_result"
    }
   ],
   "source": [
    "modeling_df.sample(5)"
   ]
  },
  {
   "cell_type": "markdown",
   "id": "71d2f7ea-30fe-4ca4-99fb-8f2bf51369ff",
   "metadata": {},
   "source": [
    "# Preprocessing"
   ]
  },
  {
   "cell_type": "markdown",
   "id": "ba28f770-827e-4b2f-b92f-997609d009d8",
   "metadata": {},
   "source": [
    "### Define X and y:"
   ]
  },
  {
   "cell_type": "code",
   "execution_count": 77,
   "id": "ae77bd8d-41c4-4146-b6f7-53a38d14d5a0",
   "metadata": {},
   "outputs": [],
   "source": [
    "X = modeling_df['title']\n",
    "y = modeling_df['is_il']\n",
    "\n",
    "X_train, X_test, y_train, y_test = train_test_split(X, y, random_state=42, stratify=y)"
   ]
  },
  {
   "cell_type": "markdown",
   "id": "86763b96-c7dd-4c7d-9d3c-038fb0ddb63c",
   "metadata": {},
   "source": [
    "### Define baseline accuracy"
   ]
  },
  {
   "cell_type": "code",
   "execution_count": 78,
   "id": "4363d2b0-6747-4537-9833-ae4699851528",
   "metadata": {},
   "outputs": [
    {
     "data": {
      "text/plain": [
       "0    0.5\n",
       "1    0.5\n",
       "Name: is_il, dtype: float64"
      ]
     },
     "execution_count": 78,
     "metadata": {},
     "output_type": "execute_result"
    }
   ],
   "source": [
    "y.value_counts(normalize=True).round(2)"
   ]
  },
  {
   "cell_type": "markdown",
   "id": "cfd6639f-34f7-4ad0-9407-b51a30538e9e",
   "metadata": {
    "tags": []
   },
   "source": [
    "- 50% of the posts are from Israel subreddit and 50% are from Jewish subreddit."
   ]
  },
  {
   "cell_type": "markdown",
   "id": "9303ed36-58fc-4054-992d-e606073b32aa",
   "metadata": {},
   "source": [
    "### Using CountVectorize:"
   ]
  },
  {
   "cell_type": "markdown",
   "id": "e8865784-0416-47cc-8ea6-7b5a682941eb",
   "metadata": {},
   "source": [
    "##### CountVectorize(stop_word='english', ngrams=default)"
   ]
  },
  {
   "cell_type": "code",
   "execution_count": 7,
   "id": "d720ae27-1dfb-4e6a-a259-3bfc3b475d90",
   "metadata": {},
   "outputs": [],
   "source": [
    "cv = CountVectorizer(stop_words='english')\n",
    "cv.fit(X_train)\n",
    "X_train_cv = cv.transform(X_train).A\n",
    "X_test_cv = cv.transform(X_test).A"
   ]
  },
  {
   "cell_type": "code",
   "execution_count": 8,
   "id": "977992cd-f333-48e6-b7d5-0718429f8fee",
   "metadata": {},
   "outputs": [],
   "source": [
    "X_train_cv = pd.DataFrame(X_train_cv, columns=cv.get_feature_names_out())\n",
    "X_test_cv = pd.DataFrame(X_test_cv, columns=cv.get_feature_names_out())"
   ]
  },
  {
   "cell_type": "code",
   "execution_count": 9,
   "id": "a3370386-8939-4274-b7dc-cefde64ee258",
   "metadata": {},
   "outputs": [
    {
     "data": {
      "text/html": [
       "<div>\n",
       "<style scoped>\n",
       "    .dataframe tbody tr th:only-of-type {\n",
       "        vertical-align: middle;\n",
       "    }\n",
       "\n",
       "    .dataframe tbody tr th {\n",
       "        vertical-align: top;\n",
       "    }\n",
       "\n",
       "    .dataframe thead th {\n",
       "        text-align: right;\n",
       "    }\n",
       "</style>\n",
       "<table border=\"1\" class=\"dataframe\">\n",
       "  <thead>\n",
       "    <tr style=\"text-align: right;\">\n",
       "      <th></th>\n",
       "      <th>000</th>\n",
       "      <th>007</th>\n",
       "      <th>01</th>\n",
       "      <th>050</th>\n",
       "      <th>10</th>\n",
       "      <th>100</th>\n",
       "      <th>1000</th>\n",
       "      <th>104</th>\n",
       "      <th>105lza7</th>\n",
       "      <th>10th</th>\n",
       "      <th>...</th>\n",
       "      <th>कस</th>\n",
       "      <th>ठक</th>\n",
       "      <th>नए</th>\n",
       "      <th>नव</th>\n",
       "      <th>पक</th>\n",
       "      <th>पहल</th>\n",
       "      <th>बढ</th>\n",
       "      <th>बह</th>\n",
       "      <th>रशन</th>\n",
       "      <th>सहय</th>\n",
       "    </tr>\n",
       "  </thead>\n",
       "  <tbody>\n",
       "    <tr>\n",
       "      <th>0</th>\n",
       "      <td>0</td>\n",
       "      <td>0</td>\n",
       "      <td>0</td>\n",
       "      <td>0</td>\n",
       "      <td>0</td>\n",
       "      <td>0</td>\n",
       "      <td>0</td>\n",
       "      <td>0</td>\n",
       "      <td>0</td>\n",
       "      <td>0</td>\n",
       "      <td>...</td>\n",
       "      <td>0</td>\n",
       "      <td>0</td>\n",
       "      <td>0</td>\n",
       "      <td>0</td>\n",
       "      <td>0</td>\n",
       "      <td>0</td>\n",
       "      <td>0</td>\n",
       "      <td>0</td>\n",
       "      <td>0</td>\n",
       "      <td>0</td>\n",
       "    </tr>\n",
       "    <tr>\n",
       "      <th>1</th>\n",
       "      <td>0</td>\n",
       "      <td>0</td>\n",
       "      <td>0</td>\n",
       "      <td>0</td>\n",
       "      <td>0</td>\n",
       "      <td>0</td>\n",
       "      <td>0</td>\n",
       "      <td>0</td>\n",
       "      <td>0</td>\n",
       "      <td>0</td>\n",
       "      <td>...</td>\n",
       "      <td>0</td>\n",
       "      <td>0</td>\n",
       "      <td>0</td>\n",
       "      <td>0</td>\n",
       "      <td>0</td>\n",
       "      <td>0</td>\n",
       "      <td>0</td>\n",
       "      <td>0</td>\n",
       "      <td>0</td>\n",
       "      <td>0</td>\n",
       "    </tr>\n",
       "    <tr>\n",
       "      <th>2</th>\n",
       "      <td>0</td>\n",
       "      <td>0</td>\n",
       "      <td>0</td>\n",
       "      <td>0</td>\n",
       "      <td>0</td>\n",
       "      <td>0</td>\n",
       "      <td>0</td>\n",
       "      <td>0</td>\n",
       "      <td>0</td>\n",
       "      <td>0</td>\n",
       "      <td>...</td>\n",
       "      <td>0</td>\n",
       "      <td>0</td>\n",
       "      <td>0</td>\n",
       "      <td>0</td>\n",
       "      <td>0</td>\n",
       "      <td>0</td>\n",
       "      <td>0</td>\n",
       "      <td>0</td>\n",
       "      <td>0</td>\n",
       "      <td>0</td>\n",
       "    </tr>\n",
       "    <tr>\n",
       "      <th>3</th>\n",
       "      <td>0</td>\n",
       "      <td>0</td>\n",
       "      <td>0</td>\n",
       "      <td>0</td>\n",
       "      <td>0</td>\n",
       "      <td>0</td>\n",
       "      <td>0</td>\n",
       "      <td>0</td>\n",
       "      <td>0</td>\n",
       "      <td>0</td>\n",
       "      <td>...</td>\n",
       "      <td>0</td>\n",
       "      <td>0</td>\n",
       "      <td>0</td>\n",
       "      <td>0</td>\n",
       "      <td>0</td>\n",
       "      <td>0</td>\n",
       "      <td>0</td>\n",
       "      <td>0</td>\n",
       "      <td>0</td>\n",
       "      <td>0</td>\n",
       "    </tr>\n",
       "    <tr>\n",
       "      <th>4</th>\n",
       "      <td>0</td>\n",
       "      <td>0</td>\n",
       "      <td>0</td>\n",
       "      <td>0</td>\n",
       "      <td>0</td>\n",
       "      <td>0</td>\n",
       "      <td>0</td>\n",
       "      <td>0</td>\n",
       "      <td>0</td>\n",
       "      <td>0</td>\n",
       "      <td>...</td>\n",
       "      <td>0</td>\n",
       "      <td>0</td>\n",
       "      <td>0</td>\n",
       "      <td>0</td>\n",
       "      <td>0</td>\n",
       "      <td>0</td>\n",
       "      <td>0</td>\n",
       "      <td>0</td>\n",
       "      <td>0</td>\n",
       "      <td>0</td>\n",
       "    </tr>\n",
       "  </tbody>\n",
       "</table>\n",
       "<p>5 rows × 6601 columns</p>\n",
       "</div>"
      ],
      "text/plain": [
       "   000  007  01  050  10  100  1000  104  105lza7  10th  ...  कस  ठक  नए  नव  \\\n",
       "0    0    0   0    0   0    0     0    0        0     0  ...   0   0   0   0   \n",
       "1    0    0   0    0   0    0     0    0        0     0  ...   0   0   0   0   \n",
       "2    0    0   0    0   0    0     0    0        0     0  ...   0   0   0   0   \n",
       "3    0    0   0    0   0    0     0    0        0     0  ...   0   0   0   0   \n",
       "4    0    0   0    0   0    0     0    0        0     0  ...   0   0   0   0   \n",
       "\n",
       "   पक  पहल  बढ  बह  रशन  सहय  \n",
       "0   0    0   0   0    0    0  \n",
       "1   0    0   0   0    0    0  \n",
       "2   0    0   0   0    0    0  \n",
       "3   0    0   0   0    0    0  \n",
       "4   0    0   0   0    0    0  \n",
       "\n",
       "[5 rows x 6601 columns]"
      ]
     },
     "execution_count": 9,
     "metadata": {},
     "output_type": "execute_result"
    }
   ],
   "source": [
    "X_train_cv.head()"
   ]
  },
  {
   "cell_type": "code",
   "execution_count": 10,
   "id": "e101032d-6137-41b2-967e-b8c168793429",
   "metadata": {},
   "outputs": [
    {
     "data": {
      "text/plain": [
       "israel          143\n",
       "jewish          137\n",
       "israeli          54\n",
       "jews             49\n",
       "new              29\n",
       "right            27\n",
       "question         26\n",
       "tel              24\n",
       "antisemitism     24\n",
       "aviv             23\n",
       "hanukkah         22\n",
       "anti             22\n",
       "like             22\n",
       "antisemitic      22\n",
       "people           20\n",
       "don              19\n",
       "netanyahu        19\n",
       "did              18\n",
       "think            18\n",
       "palestinian      18\n",
       "dtype: int64"
      ]
     },
     "execution_count": 10,
     "metadata": {},
     "output_type": "execute_result"
    }
   ],
   "source": [
    "X_test_cv.sum().sort_values(ascending=False)[:20]"
   ]
  },
  {
   "cell_type": "markdown",
   "id": "d1a831cc-229b-4beb-8bae-6d89f4f6cc10",
   "metadata": {},
   "source": [
    "##### CountVectorize(stop_word=None, ngrams=(1,2))"
   ]
  },
  {
   "cell_type": "code",
   "execution_count": 11,
   "id": "ab5deae8-84b7-4047-bea1-cb2615228f0b",
   "metadata": {},
   "outputs": [],
   "source": [
    "cv2 = CountVectorizer(ngram_range=(1,2))\n",
    "cv2.fit(X_train)\n",
    "X_train_cv2 = cv2.transform(X_train).A\n",
    "X_test_cv2 = cv2.transform(X_test).A"
   ]
  },
  {
   "cell_type": "code",
   "execution_count": 12,
   "id": "18ff36f0-e94b-4a37-9a18-4d643522bf57",
   "metadata": {},
   "outputs": [],
   "source": [
    "X_train_cv2 = pd.DataFrame(X_train_cv2, columns=cv2.get_feature_names_out())\n",
    "X_test_cv2 = pd.DataFrame(X_test_cv2, columns=cv2.get_feature_names_out())"
   ]
  },
  {
   "cell_type": "code",
   "execution_count": 13,
   "id": "e6673270-c8b6-4d63-99d6-2a7790fff7b7",
   "metadata": {},
   "outputs": [
    {
     "data": {
      "text/plain": [
       "the        331\n",
       "to         255\n",
       "in         248\n",
       "of         208\n",
       "and        152\n",
       "israel     143\n",
       "jewish     137\n",
       "for        131\n",
       "is         118\n",
       "on         107\n",
       "this        95\n",
       "it          80\n",
       "with        73\n",
       "what        73\n",
       "you         70\n",
       "my          65\n",
       "about       61\n",
       "are         60\n",
       "israeli     54\n",
       "can         54\n",
       "dtype: int64"
      ]
     },
     "execution_count": 13,
     "metadata": {},
     "output_type": "execute_result"
    }
   ],
   "source": [
    "X_test_cv2.sum().sort_values(ascending=False)[:20]"
   ]
  },
  {
   "cell_type": "markdown",
   "id": "1a77edc8-fa4c-4182-9d6c-b5da8e7d4050",
   "metadata": {
    "tags": []
   },
   "source": [
    "# Modeling and Model Evaluation"
   ]
  },
  {
   "cell_type": "markdown",
   "id": "a828bad3-7bf8-4e24-8fdc-3f910f07dae7",
   "metadata": {},
   "source": [
    "### Logistic Regression Model"
   ]
  },
  {
   "cell_type": "code",
   "execution_count": 76,
   "id": "02d4e029-30a1-45ab-9c57-8d9b6af6ffa6",
   "metadata": {},
   "outputs": [
    {
     "data": {
      "text/plain": [
       "LogisticRegression(max_iter=10000)"
      ]
     },
     "execution_count": 76,
     "metadata": {},
     "output_type": "execute_result"
    }
   ],
   "source": [
    "lr = LogisticRegression(max_iter=10_000)\n",
    "\n",
    "lr.fit(X_train_cv, y_train)"
   ]
  },
  {
   "cell_type": "code",
   "execution_count": 15,
   "id": "ad10ae36-5e66-4189-a487-a37e78733da6",
   "metadata": {},
   "outputs": [
    {
     "data": {
      "text/plain": [
       "(0.97, 0.81)"
      ]
     },
     "execution_count": 15,
     "metadata": {},
     "output_type": "execute_result"
    }
   ],
   "source": [
    "lr.score(X_train_cv, y_train).round(2), lr.score(X_test_cv, y_test).round(2)"
   ]
  },
  {
   "cell_type": "code",
   "execution_count": 16,
   "id": "3ca0c55e-e9d3-4131-aa06-e0d9fdc521cc",
   "metadata": {},
   "outputs": [
    {
     "data": {
      "text/plain": [
       "0.81"
      ]
     },
     "execution_count": 16,
     "metadata": {},
     "output_type": "execute_result"
    }
   ],
   "source": [
    "#Save the score for later comparison:\n",
    "lr_cv = lr.score(X_test_cv, y_test).round(2)\n",
    "lr_cv"
   ]
  },
  {
   "cell_type": "markdown",
   "id": "c40e089a-9356-4150-929d-c0f991c5d5ef",
   "metadata": {},
   "source": [
    "The logistic regressin model predicts better than the baseline, but it is overfitting."
   ]
  },
  {
   "cell_type": "code",
   "execution_count": 17,
   "id": "53db27e0-9ab5-411b-98c5-47a08de48639",
   "metadata": {},
   "outputs": [
    {
     "data": {
      "text/plain": [
       "<sklearn.metrics._plot.confusion_matrix.ConfusionMatrixDisplay at 0x2a545146fa0>"
      ]
     },
     "execution_count": 17,
     "metadata": {},
     "output_type": "execute_result"
    },
    {
     "data": {
      "image/png": "[encoded data removed]",
      "text/plain": [
       "<Figure size 432x288 with 2 Axes>"
      ]
     },
     "metadata": {
      "needs_background": "light"
     },
     "output_type": "display_data"
    }
   ],
   "source": [
    "ConfusionMatrixDisplay.from_estimator(lr,X_test_cv,y_test, cmap='Blues', normalize='true')"
   ]
  },
  {
   "cell_type": "code",
   "execution_count": 18,
   "id": "a372b593-6615-4d88-9f5e-2e4776ba536a",
   "metadata": {},
   "outputs": [],
   "source": [
    "preds = lr.predict(X_test_cv)"
   ]
  },
  {
   "cell_type": "code",
   "execution_count": 19,
   "id": "152dfcff-26cd-4aac-a901-1abda466e949",
   "metadata": {},
   "outputs": [
    {
     "data": {
      "text/plain": [
       "0.7821576763485477"
      ]
     },
     "execution_count": 19,
     "metadata": {},
     "output_type": "execute_result"
    }
   ],
   "source": [
    "#calculate recall/sensitivity:\n",
    "recall_score(y_test, preds)"
   ]
  },
  {
   "cell_type": "code",
   "execution_count": 20,
   "id": "2ceead95-af45-4f26-afb6-7d0119a181ea",
   "metadata": {},
   "outputs": [
    {
     "data": {
      "text/plain": [
       "0.8213507625272332"
      ]
     },
     "execution_count": 20,
     "metadata": {},
     "output_type": "execute_result"
    }
   ],
   "source": [
    "#calculate precision score:\n",
    "precision_score(y_test, preds)"
   ]
  },
  {
   "cell_type": "code",
   "execution_count": 21,
   "id": "2c5d3105-c5b5-4933-85d4-46b373ed97b4",
   "metadata": {},
   "outputs": [
    {
     "data": {
      "text/plain": [
       "0.19358178053830227"
      ]
     },
     "execution_count": 21,
     "metadata": {},
     "output_type": "execute_result"
    }
   ],
   "source": [
    "#calculate mean square error\n",
    "mean_squared_error(y_test, preds)"
   ]
  },
  {
   "cell_type": "markdown",
   "id": "d5b0922d-1016-4da1-9c54-5dd73516beba",
   "metadata": {},
   "source": [
    "### Random Forest Model"
   ]
  },
  {
   "cell_type": "code",
   "execution_count": 22,
   "id": "168e0da3-9b44-4bbb-ae21-df6f26d0c6dd",
   "metadata": {},
   "outputs": [],
   "source": [
    "rfc = RandomForestClassifier()\n",
    "etc = ExtraTreesClassifier()"
   ]
  },
  {
   "cell_type": "code",
   "execution_count": 23,
   "id": "fec578b3-4482-4a3f-b2c7-448e7b863555",
   "metadata": {},
   "outputs": [
    {
     "name": "stdout",
     "output_type": "stream",
     "text": [
      "[0.79137931 0.79792746 0.82901554 0.81865285 0.80829016]\n",
      "0.8090530641415044\n"
     ]
    }
   ],
   "source": [
    "rfc_scores = cross_val_score(rfc, X_train_cv, y_train)\n",
    "print(rfc_scores)\n",
    "print(rfc_scores.mean())"
   ]
  },
  {
   "cell_type": "code",
   "execution_count": 24,
   "id": "70dd7054-162e-445a-b789-1c42482426ec",
   "metadata": {},
   "outputs": [
    {
     "data": {
      "text/plain": [
       "0.81"
      ]
     },
     "execution_count": 24,
     "metadata": {},
     "output_type": "execute_result"
    }
   ],
   "source": [
    "#Save the score for later comparison:\n",
    "rfc_cv = rfc_scores.mean().round(2)\n",
    "rfc_cv"
   ]
  },
  {
   "cell_type": "markdown",
   "id": "d03ddd14-93a2-40f1-89fa-cd6cce9bcf67",
   "metadata": {},
   "source": [
    "The random tree model's score did similarly to the logistic regression."
   ]
  },
  {
   "cell_type": "markdown",
   "id": "f58d5626-2107-4287-8d09-178e3ba5e3b1",
   "metadata": {},
   "source": [
    "#### Grid search"
   ]
  },
  {
   "cell_type": "code",
   "execution_count": 25,
   "id": "77b07d15-2ddb-45e4-8598-861e6593e963",
   "metadata": {},
   "outputs": [
    {
     "data": {
      "text/plain": [
       "GridSearchCV(estimator=RandomForestClassifier(), n_jobs=-1,\n",
       "             param_grid={'max_depth': [None, 5, 7, 10, 12, 15],\n",
       "                         'min_samples_split': [2, 3, 5],\n",
       "                         'n_estimators': [100, 150, 200]})"
      ]
     },
     "execution_count": 25,
     "metadata": {},
     "output_type": "execute_result"
    }
   ],
   "source": [
    "grid = {\n",
    "    'n_estimators': [100, 150, 200],\n",
    "    'max_depth': [None, 5, 7, 10, 12, 15],\n",
    "    'min_samples_split': [2, 3, 5]\n",
    "}\n",
    "\n",
    "gs = GridSearchCV(rfc, param_grid=grid, n_jobs=-1)\n",
    "gs.fit(X_train_cv, y_train)"
   ]
  },
  {
   "cell_type": "code",
   "execution_count": 26,
   "id": "944ceb22-3678-4701-ae88-036b129d11e4",
   "metadata": {},
   "outputs": [
    {
     "data": {
      "text/plain": [
       "(0.8107795843011137, RandomForestClassifier(min_samples_split=5))"
      ]
     },
     "execution_count": 26,
     "metadata": {},
     "output_type": "execute_result"
    }
   ],
   "source": [
    "gs.best_score_, gs.best_estimator_"
   ]
  },
  {
   "cell_type": "code",
   "execution_count": 27,
   "id": "0549b74e-8de1-407e-a7fd-9d6d92c35598",
   "metadata": {},
   "outputs": [
    {
     "data": {
      "text/plain": [
       "0.81"
      ]
     },
     "execution_count": 27,
     "metadata": {},
     "output_type": "execute_result"
    }
   ],
   "source": [
    "#Save the score for later comparison:\n",
    "rfc_gs_cv = gs.best_score_.round(2)\n",
    "rfc_gs_cv"
   ]
  },
  {
   "cell_type": "code",
   "execution_count": 28,
   "id": "e0ddd1e8-f693-4024-a860-29c45259f511",
   "metadata": {},
   "outputs": [
    {
     "data": {
      "text/plain": [
       "0.18322981366459629"
      ]
     },
     "execution_count": 28,
     "metadata": {},
     "output_type": "execute_result"
    }
   ],
   "source": [
    "tree_preds = gs.best_estimator_.predict(X_test_cv)\n",
    "mean_squared_error(y_test, tree_preds)"
   ]
  },
  {
   "cell_type": "markdown",
   "id": "1bf89895-365e-4ee0-819b-3b247d4320c4",
   "metadata": {},
   "source": [
    "### KNN Model"
   ]
  },
  {
   "cell_type": "code",
   "execution_count": 29,
   "id": "b77cf482-a6ab-4f45-922e-e5618b7ea794",
   "metadata": {},
   "outputs": [
    {
     "data": {
      "text/plain": [
       "KNeighborsClassifier()"
      ]
     },
     "execution_count": 29,
     "metadata": {},
     "output_type": "execute_result"
    }
   ],
   "source": [
    "ss = StandardScaler()\n",
    "\n",
    "ss.fit(X_train_cv)\n",
    "X_train_scaled = ss.transform(X_train_cv)\n",
    "X_test_scaled = ss.transform(X_test_cv)\n",
    "\n",
    "knn = KNeighborsClassifier()\n",
    "\n",
    "knn.fit(X_train_scaled, y_train)"
   ]
  },
  {
   "cell_type": "code",
   "execution_count": 30,
   "id": "64bf69f2-3bc3-4b17-9057-ebe125fa0385",
   "metadata": {},
   "outputs": [
    {
     "data": {
      "text/plain": [
       "(0.7814226519337016, 0.6790890269151139)"
      ]
     },
     "execution_count": 30,
     "metadata": {},
     "output_type": "execute_result"
    }
   ],
   "source": [
    "#Save the score for later comparison:\n",
    "knn.score(X_train_scaled, y_train), knn.score(X_test_scaled, y_test)\n"
   ]
  },
  {
   "cell_type": "code",
   "execution_count": 31,
   "id": "ee171adc-3d01-40d8-ab73-ad31adce412b",
   "metadata": {},
   "outputs": [
    {
     "data": {
      "text/plain": [
       "0.68"
      ]
     },
     "execution_count": 31,
     "metadata": {},
     "output_type": "execute_result"
    }
   ],
   "source": [
    "#Save the score for later comparison:\n",
    "knn_cv = knn.score(X_test_scaled, y_test).round(2)\n",
    "knn_cv"
   ]
  },
  {
   "cell_type": "code",
   "execution_count": 32,
   "id": "63863d7e-12e8-4631-a83e-a33027eeaa89",
   "metadata": {},
   "outputs": [],
   "source": [
    "knn_preds = knn.predict(X_test_scaled)"
   ]
  },
  {
   "cell_type": "code",
   "execution_count": 33,
   "id": "511b0bb1-6c83-446b-8939-11731b418f2b",
   "metadata": {},
   "outputs": [
    {
     "data": {
      "text/plain": [
       "<sklearn.metrics._plot.confusion_matrix.ConfusionMatrixDisplay at 0x2a50da55a60>"
      ]
     },
     "execution_count": 33,
     "metadata": {},
     "output_type": "execute_result"
    },
    {
     "data": {
      "image/png": "[encoded data removed]",
      "text/plain": [
       "<Figure size 432x288 with 2 Axes>"
      ]
     },
     "metadata": {
      "needs_background": "light"
     },
     "output_type": "display_data"
    }
   ],
   "source": [
    "ConfusionMatrixDisplay.from_estimator(knn, X_test_scaled, y_test, cmap='Blues', normalize='true')"
   ]
  },
  {
   "cell_type": "code",
   "execution_count": 34,
   "id": "317626f0-c3a1-48a3-beb0-24c06471b37e",
   "metadata": {},
   "outputs": [
    {
     "data": {
      "text/plain": [
       "0.32091097308488614"
      ]
     },
     "execution_count": 34,
     "metadata": {},
     "output_type": "execute_result"
    }
   ],
   "source": [
    "mean_squared_error(y_test, knn_preds)"
   ]
  },
  {
   "cell_type": "code",
   "execution_count": 35,
   "id": "a34e0e67-7f00-4717-97eb-feb18ac716d6",
   "metadata": {},
   "outputs": [
    {
     "data": {
      "text/plain": [
       "0.7821576763485477"
      ]
     },
     "execution_count": 35,
     "metadata": {},
     "output_type": "execute_result"
    }
   ],
   "source": [
    "#calculate recall/sensitivity:\n",
    "recall_score(y_test, preds)"
   ]
  },
  {
   "cell_type": "code",
   "execution_count": 36,
   "id": "9ac8e5af-336e-4680-afeb-071b8255a33c",
   "metadata": {},
   "outputs": [
    {
     "data": {
      "text/plain": [
       "0.8213507625272332"
      ]
     },
     "execution_count": 36,
     "metadata": {},
     "output_type": "execute_result"
    }
   ],
   "source": [
    "#calculate precision:\n",
    "precision_score(y_test, preds)"
   ]
  },
  {
   "cell_type": "markdown",
   "id": "6f93a71a-941e-42e3-b4e3-bc5144e156ca",
   "metadata": {},
   "source": [
    "### Voting Classifier"
   ]
  },
  {
   "cell_type": "code",
   "execution_count": 37,
   "id": "9e023992-e393-4fb4-bfc1-95ea1de443f0",
   "metadata": {},
   "outputs": [],
   "source": [
    "vc = VotingClassifier(\n",
    "    [\n",
    "        ('lr', LogisticRegression()),\n",
    "        ('knn', KNeighborsClassifier(n_neighbors=12, weights='distance')),\n",
    "        ('rfc', RandomForestClassifier(n_estimators=200))\n",
    "    ],\n",
    "    n_jobs=-1,\n",
    ")"
   ]
  },
  {
   "cell_type": "code",
   "execution_count": 38,
   "id": "c2594d9b-71cf-4fc3-b427-0e1bc0e78887",
   "metadata": {},
   "outputs": [
    {
     "data": {
      "text/plain": [
       "0.21739130434782608"
      ]
     },
     "execution_count": 38,
     "metadata": {},
     "output_type": "execute_result"
    }
   ],
   "source": [
    "vc.fit(X_train_scaled, y_train)\n",
    "vc_preds = vc.predict(X_test_scaled)\n",
    "mean_squared_error(y_test, vc_preds)"
   ]
  },
  {
   "cell_type": "code",
   "execution_count": 39,
   "id": "c3f3964c-c052-4282-b7b3-684351986aea",
   "metadata": {},
   "outputs": [
    {
     "data": {
      "text/plain": [
       "(0.9924033149171271, 0.782608695652174)"
      ]
     },
     "execution_count": 39,
     "metadata": {},
     "output_type": "execute_result"
    }
   ],
   "source": [
    "#Accuracy score:\n",
    "vc.score(X_train_scaled, y_train), vc.score(X_test_scaled, y_test)"
   ]
  },
  {
   "cell_type": "code",
   "execution_count": 40,
   "id": "c8350e64-05a8-4d84-ac1e-c99e7fa1e8ff",
   "metadata": {},
   "outputs": [
    {
     "data": {
      "text/plain": [
       "0.78"
      ]
     },
     "execution_count": 40,
     "metadata": {},
     "output_type": "execute_result"
    }
   ],
   "source": [
    "#Save the score for later comparison:\n",
    "vc_cv = vc.score(X_test_scaled, y_test).round(2)\n",
    "vc_cv"
   ]
  },
  {
   "cell_type": "markdown",
   "id": "d278e1a3-d506-4fd0-82a3-fa53dd2c60de",
   "metadata": {},
   "source": [
    "The vc model is overfitting."
   ]
  },
  {
   "cell_type": "markdown",
   "id": "01bc2e65-4c41-4543-bdab-a54183fd74b5",
   "metadata": {},
   "source": [
    "#### Pipeline: CountVectorizer, Logistic Rgression"
   ]
  },
  {
   "cell_type": "code",
   "execution_count": 41,
   "id": "ef9bfb44-6e42-49b0-a271-44907e9c3d66",
   "metadata": {},
   "outputs": [
    {
     "data": {
      "text/plain": [
       "(0.9692679558011049, 0.7929606625258799)"
      ]
     },
     "execution_count": 41,
     "metadata": {},
     "output_type": "execute_result"
    }
   ],
   "source": [
    "pipe = Pipeline([\n",
    "    ('cv', CountVectorizer()),\n",
    "    ('lr', LogisticRegression(max_iter=10_000, n_jobs=-1, random_state=123))\n",
    "])\n",
    "\n",
    "pipe.fit(X_train, y_train)\n",
    "pipe.score(X_train, y_train), pipe.score(X_test, y_test)"
   ]
  },
  {
   "cell_type": "markdown",
   "id": "17e06420-2ab8-428d-b9a5-e4684894df4c",
   "metadata": {},
   "source": [
    "Grid search:"
   ]
  },
  {
   "cell_type": "code",
   "execution_count": 42,
   "id": "320e9cbc-d270-4327-ad02-e8d54deab407",
   "metadata": {},
   "outputs": [
    {
     "data": {
      "text/plain": [
       "(0.9816988950276243, 0.8188405797101449)"
      ]
     },
     "execution_count": 42,
     "metadata": {},
     "output_type": "execute_result"
    }
   ],
   "source": [
    "grid2 = {\n",
    "    \"cv__min_df\": [3,2,1],\n",
    "    \"cv__stop_words\": [None,'english'],\n",
    "    'cv__ngram_range': [(1,2), (1,3)],\n",
    "    \n",
    "}\n",
    "gs2 = GridSearchCV(pipe, param_grid=grid2, n_jobs=-1)\n",
    "gs2.fit(X_train, y_train)\n",
    "gs2.score(X_train, y_train), gs2.score(X_test, y_test)"
   ]
  },
  {
   "cell_type": "code",
   "execution_count": 43,
   "id": "c62a531e-ecd1-476d-b9fb-4833dfa29ad6",
   "metadata": {},
   "outputs": [
    {
     "data": {
      "text/plain": [
       "{'cv__min_df': 1, 'cv__ngram_range': (1, 2), 'cv__stop_words': 'english'}"
      ]
     },
     "execution_count": 43,
     "metadata": {},
     "output_type": "execute_result"
    }
   ],
   "source": [
    "gs2.best_params_"
   ]
  },
  {
   "cell_type": "markdown",
   "id": "5da69356-f1b9-4d50-bb9b-ac3cf7ee9dc8",
   "metadata": {},
   "source": [
    "Conducting pipeline with count vectorizer resulted the best score so far. \n",
    "<br>\n",
    "Adding grid search indicates that the best results so far are acieved when:\n",
    "<br>\n",
    "    - The model ignores terms that appear in less than 1% of the documents ('cv__min_df': 1)\n",
    "<br>\n",
    "    - Using both  unigrams and bigrams ('cv__ngram_range': (1, 2))\n",
    "<br>\n",
    "    - Using defaul stop words ('cv__stop_words': None)"
   ]
  },
  {
   "cell_type": "code",
   "execution_count": 44,
   "id": "914980dc-3179-42c9-98f1-b1ca3e17839b",
   "metadata": {},
   "outputs": [],
   "source": [
    "#Save the score for later comparison:\n",
    "cv_lr_gs = gs2.score(X_test, y_test).round(2)"
   ]
  },
  {
   "cell_type": "markdown",
   "id": "2553ccb0-a007-4f50-91ea-3e0c96936516",
   "metadata": {},
   "source": [
    "### Compare TfidfVectorizer to CountVectorizer"
   ]
  },
  {
   "cell_type": "markdown",
   "id": "3487d2fb-cf5d-49f6-8257-fc486c13959c",
   "metadata": {},
   "source": [
    "Try to improve the results by using TfidfVectorizer instead of CountVectorizer:"
   ]
  },
  {
   "cell_type": "code",
   "execution_count": 45,
   "id": "83fb56bd-1178-4f0e-8f51-5ba5449e4ffa",
   "metadata": {},
   "outputs": [
    {
     "data": {
      "text/plain": [
       "(0.9450966850828729, 0.8354037267080745)"
      ]
     },
     "execution_count": 45,
     "metadata": {},
     "output_type": "execute_result"
    }
   ],
   "source": [
    "pipe2 = Pipeline([\n",
    "    ('tf', TfidfVectorizer(min_df=1, stop_words='english')),\n",
    "    ('lr', LogisticRegression())\n",
    "])\n",
    "\n",
    "pipe2.fit(X_train, y_train)\n",
    "pipe2.score(X_train, y_train), pipe2.score(X_test, y_test)"
   ]
  },
  {
   "cell_type": "code",
   "execution_count": 46,
   "id": "65472eb4-4bb9-4002-929b-c1fac3f50ce0",
   "metadata": {},
   "outputs": [
    {
     "data": {
      "text/plain": [
       "(0.9816988950276243, 0.8188405797101449)"
      ]
     },
     "execution_count": 46,
     "metadata": {},
     "output_type": "execute_result"
    }
   ],
   "source": [
    "grid3 = {\n",
    "    \"cv__min_df\": [3,2,1],\n",
    "    \"cv__stop_words\": [None,'english'],\n",
    "    'cv__ngram_range': [(1,2), (1,3)],\n",
    "    \n",
    "}\n",
    "gs3 = GridSearchCV(pipe, param_grid=grid3, n_jobs=-1)\n",
    "gs3.fit(X_train, y_train)\n",
    "gs3.score(X_train, y_train), gs3.score(X_test, y_test)"
   ]
  },
  {
   "cell_type": "markdown",
   "id": "d04171c0-56dd-48cf-98c2-ed5ea60c1ec0",
   "metadata": {},
   "source": [
    "TfidfVectorizer scores are similar to CountVectorizer scores."
   ]
  },
  {
   "cell_type": "code",
   "execution_count": 47,
   "id": "eb209b66-2a8e-433e-af0f-e8a242f91ea8",
   "metadata": {},
   "outputs": [],
   "source": [
    "#Save the score for later comparison:\n",
    "tfidf_lr_gs = gs3.score(X_test, y_test).round(2)"
   ]
  },
  {
   "cell_type": "code",
   "execution_count": 48,
   "id": "8de26113-7de4-4093-bbc3-9ac0d5ae0d0f",
   "metadata": {},
   "outputs": [
    {
     "ename": "AttributeError",
     "evalue": "'numpy.ndarray' object has no attribute 'lower'",
     "output_type": "error",
     "traceback": [
      "\u001b[1;31m---------------------------------------------------------------------------\u001b[0m",
      "\u001b[1;31mAttributeError\u001b[0m                            Traceback (most recent call last)",
      "\u001b[1;32m~\\AppData\\Local\\Temp/ipykernel_16848/3292125561.py\u001b[0m in \u001b[0;36m<module>\u001b[1;34m\u001b[0m\n\u001b[1;32m----> 1\u001b[1;33m \u001b[0mConfusionMatrixDisplay\u001b[0m\u001b[1;33m.\u001b[0m\u001b[0mfrom_estimator\u001b[0m\u001b[1;33m(\u001b[0m\u001b[0mpipe2\u001b[0m\u001b[1;33m,\u001b[0m \u001b[0mX_test_scaled\u001b[0m\u001b[1;33m,\u001b[0m \u001b[0my_test\u001b[0m\u001b[1;33m,\u001b[0m \u001b[0mcmap\u001b[0m\u001b[1;33m=\u001b[0m\u001b[1;34m'Blues'\u001b[0m\u001b[1;33m,\u001b[0m \u001b[0mnormalize\u001b[0m\u001b[1;33m=\u001b[0m\u001b[1;34m'true'\u001b[0m\u001b[1;33m)\u001b[0m\u001b[1;33m\u001b[0m\u001b[1;33m\u001b[0m\u001b[0m\n\u001b[0m",
      "\u001b[1;32m~\\anaconda3\\lib\\site-packages\\sklearn\\metrics\\_plot\\confusion_matrix.py\u001b[0m in \u001b[0;36mfrom_estimator\u001b[1;34m(cls, estimator, X, y, labels, sample_weight, normalize, display_labels, include_values, xticks_rotation, values_format, cmap, ax, colorbar)\u001b[0m\n\u001b[0;32m    290\u001b[0m         \u001b[1;32mif\u001b[0m \u001b[1;32mnot\u001b[0m \u001b[0mis_classifier\u001b[0m\u001b[1;33m(\u001b[0m\u001b[0mestimator\u001b[0m\u001b[1;33m)\u001b[0m\u001b[1;33m:\u001b[0m\u001b[1;33m\u001b[0m\u001b[1;33m\u001b[0m\u001b[0m\n\u001b[0;32m    291\u001b[0m             \u001b[1;32mraise\u001b[0m \u001b[0mValueError\u001b[0m\u001b[1;33m(\u001b[0m\u001b[1;34mf\"{method_name} only supports classifiers\"\u001b[0m\u001b[1;33m)\u001b[0m\u001b[1;33m\u001b[0m\u001b[1;33m\u001b[0m\u001b[0m\n\u001b[1;32m--> 292\u001b[1;33m         \u001b[0my_pred\u001b[0m \u001b[1;33m=\u001b[0m \u001b[0mestimator\u001b[0m\u001b[1;33m.\u001b[0m\u001b[0mpredict\u001b[0m\u001b[1;33m(\u001b[0m\u001b[0mX\u001b[0m\u001b[1;33m)\u001b[0m\u001b[1;33m\u001b[0m\u001b[1;33m\u001b[0m\u001b[0m\n\u001b[0m\u001b[0;32m    293\u001b[0m \u001b[1;33m\u001b[0m\u001b[0m\n\u001b[0;32m    294\u001b[0m         return cls.from_predictions(\n",
      "\u001b[1;32m~\\anaconda3\\lib\\site-packages\\sklearn\\utils\\metaestimators.py\u001b[0m in \u001b[0;36m<lambda>\u001b[1;34m(*args, **kwargs)\u001b[0m\n\u001b[0;32m    111\u001b[0m \u001b[1;33m\u001b[0m\u001b[0m\n\u001b[0;32m    112\u001b[0m             \u001b[1;31m# lambda, but not partial, allows help() to work with update_wrapper\u001b[0m\u001b[1;33m\u001b[0m\u001b[1;33m\u001b[0m\u001b[0m\n\u001b[1;32m--> 113\u001b[1;33m             \u001b[0mout\u001b[0m \u001b[1;33m=\u001b[0m \u001b[1;32mlambda\u001b[0m \u001b[1;33m*\u001b[0m\u001b[0margs\u001b[0m\u001b[1;33m,\u001b[0m \u001b[1;33m**\u001b[0m\u001b[0mkwargs\u001b[0m\u001b[1;33m:\u001b[0m \u001b[0mself\u001b[0m\u001b[1;33m.\u001b[0m\u001b[0mfn\u001b[0m\u001b[1;33m(\u001b[0m\u001b[0mobj\u001b[0m\u001b[1;33m,\u001b[0m \u001b[1;33m*\u001b[0m\u001b[0margs\u001b[0m\u001b[1;33m,\u001b[0m \u001b[1;33m**\u001b[0m\u001b[0mkwargs\u001b[0m\u001b[1;33m)\u001b[0m  \u001b[1;31m# noqa\u001b[0m\u001b[1;33m\u001b[0m\u001b[1;33m\u001b[0m\u001b[0m\n\u001b[0m\u001b[0;32m    114\u001b[0m         \u001b[1;32melse\u001b[0m\u001b[1;33m:\u001b[0m\u001b[1;33m\u001b[0m\u001b[1;33m\u001b[0m\u001b[0m\n\u001b[0;32m    115\u001b[0m \u001b[1;33m\u001b[0m\u001b[0m\n",
      "\u001b[1;32m~\\anaconda3\\lib\\site-packages\\sklearn\\pipeline.py\u001b[0m in \u001b[0;36mpredict\u001b[1;34m(self, X, **predict_params)\u001b[0m\n\u001b[0;32m    467\u001b[0m         \u001b[0mXt\u001b[0m \u001b[1;33m=\u001b[0m \u001b[0mX\u001b[0m\u001b[1;33m\u001b[0m\u001b[1;33m\u001b[0m\u001b[0m\n\u001b[0;32m    468\u001b[0m         \u001b[1;32mfor\u001b[0m \u001b[0m_\u001b[0m\u001b[1;33m,\u001b[0m \u001b[0mname\u001b[0m\u001b[1;33m,\u001b[0m \u001b[0mtransform\u001b[0m \u001b[1;32min\u001b[0m \u001b[0mself\u001b[0m\u001b[1;33m.\u001b[0m\u001b[0m_iter\u001b[0m\u001b[1;33m(\u001b[0m\u001b[0mwith_final\u001b[0m\u001b[1;33m=\u001b[0m\u001b[1;32mFalse\u001b[0m\u001b[1;33m)\u001b[0m\u001b[1;33m:\u001b[0m\u001b[1;33m\u001b[0m\u001b[1;33m\u001b[0m\u001b[0m\n\u001b[1;32m--> 469\u001b[1;33m             \u001b[0mXt\u001b[0m \u001b[1;33m=\u001b[0m \u001b[0mtransform\u001b[0m\u001b[1;33m.\u001b[0m\u001b[0mtransform\u001b[0m\u001b[1;33m(\u001b[0m\u001b[0mXt\u001b[0m\u001b[1;33m)\u001b[0m\u001b[1;33m\u001b[0m\u001b[1;33m\u001b[0m\u001b[0m\n\u001b[0m\u001b[0;32m    470\u001b[0m         \u001b[1;32mreturn\u001b[0m \u001b[0mself\u001b[0m\u001b[1;33m.\u001b[0m\u001b[0msteps\u001b[0m\u001b[1;33m[\u001b[0m\u001b[1;33m-\u001b[0m\u001b[1;36m1\u001b[0m\u001b[1;33m]\u001b[0m\u001b[1;33m[\u001b[0m\u001b[1;36m1\u001b[0m\u001b[1;33m]\u001b[0m\u001b[1;33m.\u001b[0m\u001b[0mpredict\u001b[0m\u001b[1;33m(\u001b[0m\u001b[0mXt\u001b[0m\u001b[1;33m,\u001b[0m \u001b[1;33m**\u001b[0m\u001b[0mpredict_params\u001b[0m\u001b[1;33m)\u001b[0m\u001b[1;33m\u001b[0m\u001b[1;33m\u001b[0m\u001b[0m\n\u001b[0;32m    471\u001b[0m \u001b[1;33m\u001b[0m\u001b[0m\n",
      "\u001b[1;32m~\\anaconda3\\lib\\site-packages\\sklearn\\feature_extraction\\text.py\u001b[0m in \u001b[0;36mtransform\u001b[1;34m(self, raw_documents)\u001b[0m\n\u001b[0;32m   2099\u001b[0m         \u001b[0mcheck_is_fitted\u001b[0m\u001b[1;33m(\u001b[0m\u001b[0mself\u001b[0m\u001b[1;33m,\u001b[0m \u001b[0mmsg\u001b[0m\u001b[1;33m=\u001b[0m\u001b[1;34m\"The TF-IDF vectorizer is not fitted\"\u001b[0m\u001b[1;33m)\u001b[0m\u001b[1;33m\u001b[0m\u001b[1;33m\u001b[0m\u001b[0m\n\u001b[0;32m   2100\u001b[0m \u001b[1;33m\u001b[0m\u001b[0m\n\u001b[1;32m-> 2101\u001b[1;33m         \u001b[0mX\u001b[0m \u001b[1;33m=\u001b[0m \u001b[0msuper\u001b[0m\u001b[1;33m(\u001b[0m\u001b[1;33m)\u001b[0m\u001b[1;33m.\u001b[0m\u001b[0mtransform\u001b[0m\u001b[1;33m(\u001b[0m\u001b[0mraw_documents\u001b[0m\u001b[1;33m)\u001b[0m\u001b[1;33m\u001b[0m\u001b[1;33m\u001b[0m\u001b[0m\n\u001b[0m\u001b[0;32m   2102\u001b[0m         \u001b[1;32mreturn\u001b[0m \u001b[0mself\u001b[0m\u001b[1;33m.\u001b[0m\u001b[0m_tfidf\u001b[0m\u001b[1;33m.\u001b[0m\u001b[0mtransform\u001b[0m\u001b[1;33m(\u001b[0m\u001b[0mX\u001b[0m\u001b[1;33m,\u001b[0m \u001b[0mcopy\u001b[0m\u001b[1;33m=\u001b[0m\u001b[1;32mFalse\u001b[0m\u001b[1;33m)\u001b[0m\u001b[1;33m\u001b[0m\u001b[1;33m\u001b[0m\u001b[0m\n\u001b[0;32m   2103\u001b[0m \u001b[1;33m\u001b[0m\u001b[0m\n",
      "\u001b[1;32m~\\anaconda3\\lib\\site-packages\\sklearn\\feature_extraction\\text.py\u001b[0m in \u001b[0;36mtransform\u001b[1;34m(self, raw_documents)\u001b[0m\n\u001b[0;32m   1377\u001b[0m \u001b[1;33m\u001b[0m\u001b[0m\n\u001b[0;32m   1378\u001b[0m         \u001b[1;31m# use the same matrix-building strategy as fit_transform\u001b[0m\u001b[1;33m\u001b[0m\u001b[1;33m\u001b[0m\u001b[0m\n\u001b[1;32m-> 1379\u001b[1;33m         \u001b[0m_\u001b[0m\u001b[1;33m,\u001b[0m \u001b[0mX\u001b[0m \u001b[1;33m=\u001b[0m \u001b[0mself\u001b[0m\u001b[1;33m.\u001b[0m\u001b[0m_count_vocab\u001b[0m\u001b[1;33m(\u001b[0m\u001b[0mraw_documents\u001b[0m\u001b[1;33m,\u001b[0m \u001b[0mfixed_vocab\u001b[0m\u001b[1;33m=\u001b[0m\u001b[1;32mTrue\u001b[0m\u001b[1;33m)\u001b[0m\u001b[1;33m\u001b[0m\u001b[1;33m\u001b[0m\u001b[0m\n\u001b[0m\u001b[0;32m   1380\u001b[0m         \u001b[1;32mif\u001b[0m \u001b[0mself\u001b[0m\u001b[1;33m.\u001b[0m\u001b[0mbinary\u001b[0m\u001b[1;33m:\u001b[0m\u001b[1;33m\u001b[0m\u001b[1;33m\u001b[0m\u001b[0m\n\u001b[0;32m   1381\u001b[0m             \u001b[0mX\u001b[0m\u001b[1;33m.\u001b[0m\u001b[0mdata\u001b[0m\u001b[1;33m.\u001b[0m\u001b[0mfill\u001b[0m\u001b[1;33m(\u001b[0m\u001b[1;36m1\u001b[0m\u001b[1;33m)\u001b[0m\u001b[1;33m\u001b[0m\u001b[1;33m\u001b[0m\u001b[0m\n",
      "\u001b[1;32m~\\anaconda3\\lib\\site-packages\\sklearn\\feature_extraction\\text.py\u001b[0m in \u001b[0;36m_count_vocab\u001b[1;34m(self, raw_documents, fixed_vocab)\u001b[0m\n\u001b[0;32m   1199\u001b[0m         \u001b[1;32mfor\u001b[0m \u001b[0mdoc\u001b[0m \u001b[1;32min\u001b[0m \u001b[0mraw_documents\u001b[0m\u001b[1;33m:\u001b[0m\u001b[1;33m\u001b[0m\u001b[1;33m\u001b[0m\u001b[0m\n\u001b[0;32m   1200\u001b[0m             \u001b[0mfeature_counter\u001b[0m \u001b[1;33m=\u001b[0m \u001b[1;33m{\u001b[0m\u001b[1;33m}\u001b[0m\u001b[1;33m\u001b[0m\u001b[1;33m\u001b[0m\u001b[0m\n\u001b[1;32m-> 1201\u001b[1;33m             \u001b[1;32mfor\u001b[0m \u001b[0mfeature\u001b[0m \u001b[1;32min\u001b[0m \u001b[0manalyze\u001b[0m\u001b[1;33m(\u001b[0m\u001b[0mdoc\u001b[0m\u001b[1;33m)\u001b[0m\u001b[1;33m:\u001b[0m\u001b[1;33m\u001b[0m\u001b[1;33m\u001b[0m\u001b[0m\n\u001b[0m\u001b[0;32m   1202\u001b[0m                 \u001b[1;32mtry\u001b[0m\u001b[1;33m:\u001b[0m\u001b[1;33m\u001b[0m\u001b[1;33m\u001b[0m\u001b[0m\n\u001b[0;32m   1203\u001b[0m                     \u001b[0mfeature_idx\u001b[0m \u001b[1;33m=\u001b[0m \u001b[0mvocabulary\u001b[0m\u001b[1;33m[\u001b[0m\u001b[0mfeature\u001b[0m\u001b[1;33m]\u001b[0m\u001b[1;33m\u001b[0m\u001b[1;33m\u001b[0m\u001b[0m\n",
      "\u001b[1;32m~\\anaconda3\\lib\\site-packages\\sklearn\\feature_extraction\\text.py\u001b[0m in \u001b[0;36m_analyze\u001b[1;34m(doc, analyzer, tokenizer, ngrams, preprocessor, decoder, stop_words)\u001b[0m\n\u001b[0;32m    111\u001b[0m     \u001b[1;32melse\u001b[0m\u001b[1;33m:\u001b[0m\u001b[1;33m\u001b[0m\u001b[1;33m\u001b[0m\u001b[0m\n\u001b[0;32m    112\u001b[0m         \u001b[1;32mif\u001b[0m \u001b[0mpreprocessor\u001b[0m \u001b[1;32mis\u001b[0m \u001b[1;32mnot\u001b[0m \u001b[1;32mNone\u001b[0m\u001b[1;33m:\u001b[0m\u001b[1;33m\u001b[0m\u001b[1;33m\u001b[0m\u001b[0m\n\u001b[1;32m--> 113\u001b[1;33m             \u001b[0mdoc\u001b[0m \u001b[1;33m=\u001b[0m \u001b[0mpreprocessor\u001b[0m\u001b[1;33m(\u001b[0m\u001b[0mdoc\u001b[0m\u001b[1;33m)\u001b[0m\u001b[1;33m\u001b[0m\u001b[1;33m\u001b[0m\u001b[0m\n\u001b[0m\u001b[0;32m    114\u001b[0m         \u001b[1;32mif\u001b[0m \u001b[0mtokenizer\u001b[0m \u001b[1;32mis\u001b[0m \u001b[1;32mnot\u001b[0m \u001b[1;32mNone\u001b[0m\u001b[1;33m:\u001b[0m\u001b[1;33m\u001b[0m\u001b[1;33m\u001b[0m\u001b[0m\n\u001b[0;32m    115\u001b[0m             \u001b[0mdoc\u001b[0m \u001b[1;33m=\u001b[0m \u001b[0mtokenizer\u001b[0m\u001b[1;33m(\u001b[0m\u001b[0mdoc\u001b[0m\u001b[1;33m)\u001b[0m\u001b[1;33m\u001b[0m\u001b[1;33m\u001b[0m\u001b[0m\n",
      "\u001b[1;32m~\\anaconda3\\lib\\site-packages\\sklearn\\feature_extraction\\text.py\u001b[0m in \u001b[0;36m_preprocess\u001b[1;34m(doc, accent_function, lower)\u001b[0m\n\u001b[0;32m     69\u001b[0m     \"\"\"\n\u001b[0;32m     70\u001b[0m     \u001b[1;32mif\u001b[0m \u001b[0mlower\u001b[0m\u001b[1;33m:\u001b[0m\u001b[1;33m\u001b[0m\u001b[1;33m\u001b[0m\u001b[0m\n\u001b[1;32m---> 71\u001b[1;33m         \u001b[0mdoc\u001b[0m \u001b[1;33m=\u001b[0m \u001b[0mdoc\u001b[0m\u001b[1;33m.\u001b[0m\u001b[0mlower\u001b[0m\u001b[1;33m(\u001b[0m\u001b[1;33m)\u001b[0m\u001b[1;33m\u001b[0m\u001b[1;33m\u001b[0m\u001b[0m\n\u001b[0m\u001b[0;32m     72\u001b[0m     \u001b[1;32mif\u001b[0m \u001b[0maccent_function\u001b[0m \u001b[1;32mis\u001b[0m \u001b[1;32mnot\u001b[0m \u001b[1;32mNone\u001b[0m\u001b[1;33m:\u001b[0m\u001b[1;33m\u001b[0m\u001b[1;33m\u001b[0m\u001b[0m\n\u001b[0;32m     73\u001b[0m         \u001b[0mdoc\u001b[0m \u001b[1;33m=\u001b[0m \u001b[0maccent_function\u001b[0m\u001b[1;33m(\u001b[0m\u001b[0mdoc\u001b[0m\u001b[1;33m)\u001b[0m\u001b[1;33m\u001b[0m\u001b[1;33m\u001b[0m\u001b[0m\n",
      "\u001b[1;31mAttributeError\u001b[0m: 'numpy.ndarray' object has no attribute 'lower'"
     ]
    }
   ],
   "source": [
    "ConfusionMatrixDisplay.from_estimator(pipe2, X_test_scaled, y_test, cmap='Blues', normalize='true')"
   ]
  },
  {
   "cell_type": "code",
   "execution_count": null,
   "id": "fbc3e134-9453-4797-a657-650bd2cdb6c2",
   "metadata": {},
   "outputs": [],
   "source": []
  },
  {
   "cell_type": "code",
   "execution_count": 62,
   "id": "17f0c9ce-505b-4ca6-9c90-534b767516df",
   "metadata": {},
   "outputs": [],
   "source": [
    "cv2 = CountVectorizer(stop_words='english', ngram_range=(1,2))"
   ]
  },
  {
   "cell_type": "code",
   "execution_count": 63,
   "id": "4122c525-aafc-411e-a518-d4211cd24f46",
   "metadata": {},
   "outputs": [],
   "source": [
    "cv2.fit(X_train)\n",
    "X_train_cv2 = cv2.transform(X_train).A\n",
    "X_test_cv2 = cv2.transform(X_test).A"
   ]
  },
  {
   "cell_type": "code",
   "execution_count": 64,
   "id": "6c05d1cc-a83b-4ab6-bb5c-12ee7e403743",
   "metadata": {},
   "outputs": [],
   "source": [
    "X_train_cv2 = pd.DataFrame(X_train_cv2, columns=cv2.get_feature_names_out())\n",
    "X_test_cv2 = pd.DataFrame(X_test_cv2, columns=cv2.get_feature_names_out())"
   ]
  },
  {
   "cell_type": "code",
   "execution_count": 65,
   "id": "53ecf47f-9e6d-4bf0-a004-e5cd65c045ad",
   "metadata": {},
   "outputs": [
    {
     "data": {
      "text/plain": [
       "israel          143\n",
       "jewish          137\n",
       "israeli          54\n",
       "jews             49\n",
       "new              29\n",
       "right            27\n",
       "question         26\n",
       "tel              24\n",
       "antisemitism     24\n",
       "aviv             23\n",
       "tel aviv         23\n",
       "hanukkah         22\n",
       "antisemitic      22\n",
       "like             22\n",
       "anti             22\n",
       "people           20\n",
       "netanyahu        19\n",
       "don              19\n",
       "think            18\n",
       "government       18\n",
       "dtype: int64"
      ]
     },
     "execution_count": 65,
     "metadata": {},
     "output_type": "execute_result"
    }
   ],
   "source": [
    "X_test_cv2.sum().sort_values(ascending=False)[:20]"
   ]
  },
  {
   "cell_type": "markdown",
   "id": "b8bda3f8-bac2-4ef3-a421-4a1c8a071d8f",
   "metadata": {},
   "source": [
    "# Comparing Models Performances"
   ]
  },
  {
   "cell_type": "code",
   "execution_count": 66,
   "id": "f620df26-51d1-430c-a41f-ff8de3f3810d",
   "metadata": {},
   "outputs": [
    {
     "data": {
      "text/plain": [
       "0    0.5\n",
       "1    0.5\n",
       "Name: is_il, dtype: float64"
      ]
     },
     "execution_count": 66,
     "metadata": {},
     "output_type": "execute_result"
    }
   ],
   "source": [
    "y.value_counts(normalize=True).round(2)"
   ]
  },
  {
   "cell_type": "code",
   "execution_count": 67,
   "id": "bdd840a0-7f7d-41cb-a8db-b68b82c2c7e8",
   "metadata": {},
   "outputs": [],
   "source": [
    "baseline_score = 0.52"
   ]
  },
  {
   "cell_type": "code",
   "execution_count": 68,
   "id": "6b4a8601-8ae4-48e3-acfa-b36aa74fb375",
   "metadata": {},
   "outputs": [],
   "source": [
    "# Generate a dataframe of model & accuracy score\n",
    "list_of_models = [lr_cv, cv_lr_gs,\n",
    "                  rfc_cv, rfc_gs_cv, \n",
    "                  knn_cv, tfidf_lr_gs,\n",
    "                  baseline_score]"
   ]
  },
  {
   "cell_type": "code",
   "execution_count": 69,
   "id": "dd167ec4-e385-4d43-9a57-b78221eb3e9a",
   "metadata": {},
   "outputs": [
    {
     "data": {
      "text/plain": [
       "[0.81, 0.82, 0.81, 0.81, 0.68, 0.82, 0.52]"
      ]
     },
     "execution_count": 69,
     "metadata": {},
     "output_type": "execute_result"
    }
   ],
   "source": [
    "list_of_models"
   ]
  },
  {
   "cell_type": "code",
   "execution_count": 70,
   "id": "29c00533-75db-41b9-a442-3d0615cbd23a",
   "metadata": {},
   "outputs": [
    {
     "data": {
      "text/html": [
       "<div>\n",
       "<style scoped>\n",
       "    .dataframe tbody tr th:only-of-type {\n",
       "        vertical-align: middle;\n",
       "    }\n",
       "\n",
       "    .dataframe tbody tr th {\n",
       "        vertical-align: top;\n",
       "    }\n",
       "\n",
       "    .dataframe thead th {\n",
       "        text-align: right;\n",
       "    }\n",
       "</style>\n",
       "<table border=\"1\" class=\"dataframe\">\n",
       "  <thead>\n",
       "    <tr style=\"text-align: right;\">\n",
       "      <th></th>\n",
       "      <th>accuracy_score</th>\n",
       "    </tr>\n",
       "  </thead>\n",
       "  <tbody>\n",
       "    <tr>\n",
       "      <th>lr_cv</th>\n",
       "      <td>0.81</td>\n",
       "    </tr>\n",
       "    <tr>\n",
       "      <th>cv_lr_gs</th>\n",
       "      <td>0.82</td>\n",
       "    </tr>\n",
       "    <tr>\n",
       "      <th>rfc_cv</th>\n",
       "      <td>0.81</td>\n",
       "    </tr>\n",
       "    <tr>\n",
       "      <th>rfc_gs_cv</th>\n",
       "      <td>0.81</td>\n",
       "    </tr>\n",
       "    <tr>\n",
       "      <th>knn_cv</th>\n",
       "      <td>0.68</td>\n",
       "    </tr>\n",
       "    <tr>\n",
       "      <th>tfidf_lr_gs</th>\n",
       "      <td>0.82</td>\n",
       "    </tr>\n",
       "    <tr>\n",
       "      <th>baseline_score</th>\n",
       "      <td>0.52</td>\n",
       "    </tr>\n",
       "  </tbody>\n",
       "</table>\n",
       "</div>"
      ],
      "text/plain": [
       "                accuracy_score\n",
       "lr_cv                     0.81\n",
       "cv_lr_gs                  0.82\n",
       "rfc_cv                    0.81\n",
       "rfc_gs_cv                 0.81\n",
       "knn_cv                    0.68\n",
       "tfidf_lr_gs               0.82\n",
       "baseline_score            0.52"
      ]
     },
     "execution_count": 70,
     "metadata": {},
     "output_type": "execute_result"
    }
   ],
   "source": [
    "accuracy_scores_df = pd.DataFrame(np.array(list_of_models),columns=['accuracy_score'], index = ['lr_cv', 'cv_lr_gs',\n",
    "                  'rfc_cv', 'rfc_gs_cv', \n",
    "                  'knn_cv', 'tfidf_lr_gs',\n",
    "                  'baseline_score'])\n",
    "accuracy_scores_df"
   ]
  },
  {
   "cell_type": "code",
   "execution_count": 71,
   "id": "9429abde-997d-4d93-bde3-e4e3c237b61e",
   "metadata": {},
   "outputs": [
    {
     "data": {
      "text/html": [
       "<div>\n",
       "<style scoped>\n",
       "    .dataframe tbody tr th:only-of-type {\n",
       "        vertical-align: middle;\n",
       "    }\n",
       "\n",
       "    .dataframe tbody tr th {\n",
       "        vertical-align: top;\n",
       "    }\n",
       "\n",
       "    .dataframe thead th {\n",
       "        text-align: right;\n",
       "    }\n",
       "</style>\n",
       "<table border=\"1\" class=\"dataframe\">\n",
       "  <thead>\n",
       "    <tr style=\"text-align: right;\">\n",
       "      <th></th>\n",
       "      <th>accuracy_score</th>\n",
       "    </tr>\n",
       "  </thead>\n",
       "  <tbody>\n",
       "    <tr>\n",
       "      <th>baseline_score</th>\n",
       "      <td>0.52</td>\n",
       "    </tr>\n",
       "    <tr>\n",
       "      <th>knn_cv</th>\n",
       "      <td>0.68</td>\n",
       "    </tr>\n",
       "    <tr>\n",
       "      <th>lr_cv</th>\n",
       "      <td>0.81</td>\n",
       "    </tr>\n",
       "    <tr>\n",
       "      <th>rfc_cv</th>\n",
       "      <td>0.81</td>\n",
       "    </tr>\n",
       "    <tr>\n",
       "      <th>rfc_gs_cv</th>\n",
       "      <td>0.81</td>\n",
       "    </tr>\n",
       "    <tr>\n",
       "      <th>cv_lr_gs</th>\n",
       "      <td>0.82</td>\n",
       "    </tr>\n",
       "    <tr>\n",
       "      <th>tfidf_lr_gs</th>\n",
       "      <td>0.82</td>\n",
       "    </tr>\n",
       "  </tbody>\n",
       "</table>\n",
       "</div>"
      ],
      "text/plain": [
       "                accuracy_score\n",
       "baseline_score            0.52\n",
       "knn_cv                    0.68\n",
       "lr_cv                     0.81\n",
       "rfc_cv                    0.81\n",
       "rfc_gs_cv                 0.81\n",
       "cv_lr_gs                  0.82\n",
       "tfidf_lr_gs               0.82"
      ]
     },
     "execution_count": 71,
     "metadata": {},
     "output_type": "execute_result"
    }
   ],
   "source": [
    "accuracy_scores_df = accuracy_scores_df.sort_values('accuracy_score')\n",
    "accuracy_scores_df"
   ]
  },
  {
   "cell_type": "code",
   "execution_count": 73,
   "id": "cb6e1467-2915-40c7-a336-5e1b4d084f3b",
   "metadata": {},
   "outputs": [
    {
     "data": {
      "image/png": "[encoded data removed]",
      "text/plain": [
       "<Figure size 1440x864 with 1 Axes>"
      ]
     },
     "metadata": {
      "needs_background": "light"
     },
     "output_type": "display_data"
    }
   ],
   "source": [
    "plt.figure(figsize=(20,12))\n",
    "sns.barplot(data=accuracy_scores_df, x=accuracy_scores_df['accuracy_score'], y=accuracy_scores_df.index )\n",
    "plt.xlabel('Accuracy', size=28)\n",
    "plt.ylabel('Model: Transformer, Estimator', size=28)\n",
    "plt.yticks(size=28)\n",
    "plt.xticks(size=28)\n",
    "plt.title('How did the models compare to the baseline?', size=40)\n",
    "plt.savefig('./Figures/models_compared_to_the_baseline.png')"
   ]
  },
  {
   "cell_type": "code",
   "execution_count": null,
   "id": "50e46c3f-ced5-453c-90d3-8327b9a65e20",
   "metadata": {},
   "outputs": [],
   "source": []
  },
  {
   "cell_type": "code",
   "execution_count": 75,
   "id": "d25ffc4b-cc8f-4523-b775-f8fa19ef973c",
   "metadata": {},
   "outputs": [
    {
     "name": "stderr",
     "output_type": "stream",
     "text": [
      "C:\\Users\\Marva\\anaconda3\\lib\\site-packages\\sklearn\\utils\\deprecation.py:87: FutureWarning: Function get_feature_names is deprecated; get_feature_names is deprecated in 1.0 and will be removed in 1.2. Please use get_feature_names_out instead.\n",
      "  warnings.warn(msg, category=FutureWarning)\n"
     ]
    },
    {
     "data": {
      "text/plain": [
       "[(-2.558492985820708, 'jewish'),\n",
       " (-2.1823251441466693, 'antisemitism'),\n",
       " (-2.17318935639579, 'antisemitic'),\n",
       " (-1.7615667399287702, 'chanukah'),\n",
       " (-1.736543945197516, 'hanukkah'),\n",
       " (-1.658713901381875, 'menorah'),\n",
       " (-1.5957860670080921, 'latkes'),\n",
       " (-1.4529158311694956, 'jews'),\n",
       " (-1.3362159407178635, 'tired'),\n",
       " (-1.3225811944012553, 'judaism'),\n",
       " (1.334010485541962, 'haifa'),\n",
       " (1.4348134514736355, 'likud'),\n",
       " (1.4523794026944918, 'aviv'),\n",
       " (1.4671972540405156, 'של'),\n",
       " (1.486497725739987, 'netanyahu'),\n",
       " (1.631809417998744, 'jerusalem'),\n",
       " (1.995197259775766, 'idf'),\n",
       " (2.3060128965565516, 'israeli'),\n",
       " (2.5985018064844776, 'israelis'),\n",
       " (2.6107036082047164, 'israel')]"
      ]
     },
     "execution_count": 75,
     "metadata": {},
     "output_type": "execute_result"
    }
   ],
   "source": [
    "features_200 = sorted(list(zip(lr.coef_[0], cv.get_feature_names())))\n",
    "features_200[:10] + features_200[-10:]"
   ]
  },
  {
   "cell_type": "code",
   "execution_count": null,
   "id": "fdf99a8a-4f90-495e-900b-0205c40a4c3d",
   "metadata": {},
   "outputs": [],
   "source": []
  }
 ],
 "metadata": {
  "kernelspec": {
   "display_name": "Python 3 (ipykernel)",
   "language": "python",
   "name": "python3"
  },
  "language_info": {
   "codemirror_mode": {
    "name": "ipython",
    "version": 3
   },
   "file_extension": ".py",
   "mimetype": "text/x-python",
   "name": "python",
   "nbconvert_exporter": "python",
   "pygments_lexer": "ipython3",
   "version": "3.9.7"
  }
 },
 "nbformat": 4,
 "nbformat_minor": 5
}
