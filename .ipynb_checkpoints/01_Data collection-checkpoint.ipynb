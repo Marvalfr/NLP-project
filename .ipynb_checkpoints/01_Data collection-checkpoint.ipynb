{
 "cells": [
  {
   "cell_type": "code",
   "execution_count": 13,
   "id": "481c3b18-df27-49cd-8305-e0f7812a477e",
   "metadata": {},
   "outputs": [],
   "source": [
    "import requests\n",
    "import pandas as pd\n",
    "import time"
   ]
  },
  {
   "cell_type": "code",
   "execution_count": 14,
   "id": "9c47d8bc-23d2-405d-a484-e0d2c74bc469",
   "metadata": {},
   "outputs": [],
   "source": [
    "url = 'https://api.pushshift.io/reddit/search/submission'"
   ]
  },
  {
   "cell_type": "markdown",
   "id": "61715e02-7f98-492a-a258-f22bcb5282d4",
   "metadata": {},
   "source": [
    "### Jewish"
   ]
  },
  {
   "cell_type": "code",
   "execution_count": 15,
   "id": "a18530cd-dbcf-42c0-a19f-ac906557c943",
   "metadata": {},
   "outputs": [],
   "source": [
    "url = 'https://api.pushshift.io/reddit/search/submission'"
   ]
  },
  {
   "cell_type": "code",
   "execution_count": 16,
   "id": "35ee32ee-b8ae-46b7-9102-6e07356280a6",
   "metadata": {},
   "outputs": [],
   "source": [
    "params = {\n",
    "        'subreddit': 'Jewish', \n",
    "        'size': 100, \n",
    "    }"
   ]
  },
  {
   "cell_type": "code",
   "execution_count": 17,
   "id": "f732746f-e4de-4fd6-9d61-fa78ef6c4f78",
   "metadata": {},
   "outputs": [],
   "source": [
    "res = requests.get(url, params)"
   ]
  },
  {
   "cell_type": "code",
   "execution_count": 18,
   "id": "0c77a0b7-c7fd-4a02-885c-9d7a9509976a",
   "metadata": {},
   "outputs": [
    {
     "data": {
      "text/plain": [
       "{'subreddit': 'Jewish', 'size': 100}"
      ]
     },
     "execution_count": 18,
     "metadata": {},
     "output_type": "execute_result"
    }
   ],
   "source": [
    "params"
   ]
  },
  {
   "cell_type": "code",
   "execution_count": 19,
   "id": "ea7e9d42-3257-436d-ac73-88d714fb9bbb",
   "metadata": {},
   "outputs": [
    {
     "data": {
      "text/plain": [
       "100"
      ]
     },
     "execution_count": 19,
     "metadata": {},
     "output_type": "execute_result"
    }
   ],
   "source": [
    "len(res.json()['data'])"
   ]
  },
  {
   "cell_type": "code",
   "execution_count": 20,
   "id": "b677ca7b-2c2a-42ed-9cf7-8e677a696962",
   "metadata": {},
   "outputs": [],
   "source": [
    "jewish_df =  pd.DataFrame(res.json()['data'])"
   ]
  },
  {
   "cell_type": "code",
   "execution_count": 21,
   "id": "0c17152a-c080-4044-8c2e-7e15b8624e85",
   "metadata": {
    "tags": []
   },
   "outputs": [
    {
     "data": {
      "text/html": [
       "<div>\n",
       "<style scoped>\n",
       "    .dataframe tbody tr th:only-of-type {\n",
       "        vertical-align: middle;\n",
       "    }\n",
       "\n",
       "    .dataframe tbody tr th {\n",
       "        vertical-align: top;\n",
       "    }\n",
       "\n",
       "    .dataframe thead th {\n",
       "        text-align: right;\n",
       "    }\n",
       "</style>\n",
       "<table border=\"1\" class=\"dataframe\">\n",
       "  <thead>\n",
       "    <tr style=\"text-align: right;\">\n",
       "      <th></th>\n",
       "      <th>subreddit</th>\n",
       "      <th>selftext</th>\n",
       "      <th>author_fullname</th>\n",
       "      <th>gilded</th>\n",
       "      <th>title</th>\n",
       "      <th>link_flair_richtext</th>\n",
       "      <th>subreddit_name_prefixed</th>\n",
       "      <th>hidden</th>\n",
       "      <th>pwls</th>\n",
       "      <th>link_flair_css_class</th>\n",
       "      <th>...</th>\n",
       "      <th>utc_datetime_str</th>\n",
       "      <th>link_flair_template_id</th>\n",
       "      <th>post_hint</th>\n",
       "      <th>url_overridden_by_dest</th>\n",
       "      <th>preview</th>\n",
       "      <th>crosspost_parent_list</th>\n",
       "      <th>crosspost_parent</th>\n",
       "      <th>is_gallery</th>\n",
       "      <th>media_metadata</th>\n",
       "      <th>gallery_data</th>\n",
       "    </tr>\n",
       "  </thead>\n",
       "  <tbody>\n",
       "    <tr>\n",
       "      <th>0</th>\n",
       "      <td>Jewish</td>\n",
       "      <td>[removed]</td>\n",
       "      <td>t2_vgwk1mhx</td>\n",
       "      <td>0</td>\n",
       "      <td>Question</td>\n",
       "      <td>[]</td>\n",
       "      <td>r/Jewish</td>\n",
       "      <td>False</td>\n",
       "      <td>6</td>\n",
       "      <td>None</td>\n",
       "      <td>...</td>\n",
       "      <td>2023-01-26 02:45:35</td>\n",
       "      <td>NaN</td>\n",
       "      <td>NaN</td>\n",
       "      <td>NaN</td>\n",
       "      <td>NaN</td>\n",
       "      <td>NaN</td>\n",
       "      <td>NaN</td>\n",
       "      <td>NaN</td>\n",
       "      <td>NaN</td>\n",
       "      <td>NaN</td>\n",
       "    </tr>\n",
       "    <tr>\n",
       "      <th>1</th>\n",
       "      <td>Jewish</td>\n",
       "      <td>[removed]</td>\n",
       "      <td>t2_vgwk1mhx</td>\n",
       "      <td>0</td>\n",
       "      <td>Jewish in Canada</td>\n",
       "      <td>[]</td>\n",
       "      <td>r/Jewish</td>\n",
       "      <td>False</td>\n",
       "      <td>6</td>\n",
       "      <td></td>\n",
       "      <td>...</td>\n",
       "      <td>2023-01-26 02:38:25</td>\n",
       "      <td>f5376728-bea3-11e9-8853-0ea29592a0a6</td>\n",
       "      <td>NaN</td>\n",
       "      <td>NaN</td>\n",
       "      <td>NaN</td>\n",
       "      <td>NaN</td>\n",
       "      <td>NaN</td>\n",
       "      <td>NaN</td>\n",
       "      <td>NaN</td>\n",
       "      <td>NaN</td>\n",
       "    </tr>\n",
       "    <tr>\n",
       "      <th>2</th>\n",
       "      <td>Jewish</td>\n",
       "      <td>Would it be offensive if selling matzah and ch...</td>\n",
       "      <td>t2_g2px3u8</td>\n",
       "      <td>0</td>\n",
       "      <td>Would be offensive if selling matzah and charo...</td>\n",
       "      <td>[]</td>\n",
       "      <td>r/Jewish</td>\n",
       "      <td>False</td>\n",
       "      <td>6</td>\n",
       "      <td>None</td>\n",
       "      <td>...</td>\n",
       "      <td>2023-01-26 02:22:36</td>\n",
       "      <td>NaN</td>\n",
       "      <td>NaN</td>\n",
       "      <td>NaN</td>\n",
       "      <td>NaN</td>\n",
       "      <td>NaN</td>\n",
       "      <td>NaN</td>\n",
       "      <td>NaN</td>\n",
       "      <td>NaN</td>\n",
       "      <td>NaN</td>\n",
       "    </tr>\n",
       "    <tr>\n",
       "      <th>3</th>\n",
       "      <td>Jewish</td>\n",
       "      <td>If your valid take is racist its not a valid t...</td>\n",
       "      <td>t2_5bkenlu8</td>\n",
       "      <td>0</td>\n",
       "      <td>Melbourne university first in Australia to tak...</td>\n",
       "      <td>[]</td>\n",
       "      <td>r/Jewish</td>\n",
       "      <td>False</td>\n",
       "      <td>6</td>\n",
       "      <td></td>\n",
       "      <td>...</td>\n",
       "      <td>2023-01-26 00:52:52</td>\n",
       "      <td>f21ad53a-be9d-11e9-84e7-0ea2225f4bbe</td>\n",
       "      <td>link</td>\n",
       "      <td>https://www.theguardian.com/australia-news/202...</td>\n",
       "      <td>{'images': [{'source': {'url': 'https://extern...</td>\n",
       "      <td>NaN</td>\n",
       "      <td>NaN</td>\n",
       "      <td>NaN</td>\n",
       "      <td>NaN</td>\n",
       "      <td>NaN</td>\n",
       "    </tr>\n",
       "    <tr>\n",
       "      <th>4</th>\n",
       "      <td>Jewish</td>\n",
       "      <td>FYI: Using my throwaway account here because m...</td>\n",
       "      <td>t2_7tbk56vc</td>\n",
       "      <td>0</td>\n",
       "      <td>Jewish jokes with Gentiles — a rant and your t...</td>\n",
       "      <td>[]</td>\n",
       "      <td>r/Jewish</td>\n",
       "      <td>False</td>\n",
       "      <td>6</td>\n",
       "      <td></td>\n",
       "      <td>...</td>\n",
       "      <td>2023-01-26 00:46:22</td>\n",
       "      <td>f21ad53a-be9d-11e9-84e7-0ea2225f4bbe</td>\n",
       "      <td>NaN</td>\n",
       "      <td>NaN</td>\n",
       "      <td>NaN</td>\n",
       "      <td>NaN</td>\n",
       "      <td>NaN</td>\n",
       "      <td>NaN</td>\n",
       "      <td>NaN</td>\n",
       "      <td>NaN</td>\n",
       "    </tr>\n",
       "  </tbody>\n",
       "</table>\n",
       "<p>5 rows × 95 columns</p>\n",
       "</div>"
      ],
      "text/plain": [
       "  subreddit                                           selftext  \\\n",
       "0    Jewish                                          [removed]   \n",
       "1    Jewish                                          [removed]   \n",
       "2    Jewish  Would it be offensive if selling matzah and ch...   \n",
       "3    Jewish  If your valid take is racist its not a valid t...   \n",
       "4    Jewish  FYI: Using my throwaway account here because m...   \n",
       "\n",
       "  author_fullname  gilded                                              title  \\\n",
       "0     t2_vgwk1mhx       0                                           Question   \n",
       "1     t2_vgwk1mhx       0                                   Jewish in Canada   \n",
       "2      t2_g2px3u8       0  Would be offensive if selling matzah and charo...   \n",
       "3     t2_5bkenlu8       0  Melbourne university first in Australia to tak...   \n",
       "4     t2_7tbk56vc       0  Jewish jokes with Gentiles — a rant and your t...   \n",
       "\n",
       "  link_flair_richtext subreddit_name_prefixed  hidden  pwls  \\\n",
       "0                  []                r/Jewish   False     6   \n",
       "1                  []                r/Jewish   False     6   \n",
       "2                  []                r/Jewish   False     6   \n",
       "3                  []                r/Jewish   False     6   \n",
       "4                  []                r/Jewish   False     6   \n",
       "\n",
       "  link_flair_css_class  ...     utc_datetime_str  \\\n",
       "0                 None  ...  2023-01-26 02:45:35   \n",
       "1                       ...  2023-01-26 02:38:25   \n",
       "2                 None  ...  2023-01-26 02:22:36   \n",
       "3                       ...  2023-01-26 00:52:52   \n",
       "4                       ...  2023-01-26 00:46:22   \n",
       "\n",
       "                 link_flair_template_id  post_hint  \\\n",
       "0                                   NaN        NaN   \n",
       "1  f5376728-bea3-11e9-8853-0ea29592a0a6        NaN   \n",
       "2                                   NaN        NaN   \n",
       "3  f21ad53a-be9d-11e9-84e7-0ea2225f4bbe       link   \n",
       "4  f21ad53a-be9d-11e9-84e7-0ea2225f4bbe        NaN   \n",
       "\n",
       "                              url_overridden_by_dest  \\\n",
       "0                                                NaN   \n",
       "1                                                NaN   \n",
       "2                                                NaN   \n",
       "3  https://www.theguardian.com/australia-news/202...   \n",
       "4                                                NaN   \n",
       "\n",
       "                                             preview  crosspost_parent_list  \\\n",
       "0                                                NaN                    NaN   \n",
       "1                                                NaN                    NaN   \n",
       "2                                                NaN                    NaN   \n",
       "3  {'images': [{'source': {'url': 'https://extern...                    NaN   \n",
       "4                                                NaN                    NaN   \n",
       "\n",
       "  crosspost_parent is_gallery  media_metadata gallery_data  \n",
       "0              NaN        NaN             NaN          NaN  \n",
       "1              NaN        NaN             NaN          NaN  \n",
       "2              NaN        NaN             NaN          NaN  \n",
       "3              NaN        NaN             NaN          NaN  \n",
       "4              NaN        NaN             NaN          NaN  \n",
       "\n",
       "[5 rows x 95 columns]"
      ]
     },
     "execution_count": 21,
     "metadata": {},
     "output_type": "execute_result"
    }
   ],
   "source": [
    "jewish_df.head()"
   ]
  },
  {
   "cell_type": "code",
   "execution_count": 23,
   "id": "4aed0d88-d17c-4f8e-82d4-ae7e0085f6f8",
   "metadata": {},
   "outputs": [
    {
     "data": {
      "text/plain": [
       "1674325104"
      ]
     },
     "execution_count": 23,
     "metadata": {},
     "output_type": "execute_result"
    }
   ],
   "source": [
    "res.json()['data'][-1]['created_utc']    # date of the oldest post (out of 100)"
   ]
  },
  {
   "cell_type": "code",
   "execution_count": 41,
   "id": "b2936f77-90fb-4769-a1f8-4a70d9db1df3",
   "metadata": {},
   "outputs": [],
   "source": [
    "#scraping 2000 recent posts:\n",
    "\n",
    "jewish_posts = []\n",
    "\n",
    "params = {\n",
    "        'subreddit': 'Jewish', \n",
    "        'size': 100, \n",
    "}\n",
    "\n",
    "for i in range(20):\n",
    "    time.sleep(60)                                  #pause scraping for 60 seconds\n",
    "    res = requests.get(url, params)\n",
    "    j_posts = pd.DataFrame(res.json()['data'])\n",
    "    jewish_posts.append(j_posts)\n",
    "    params['before'] = res.json()['data'][-1]['created_utc']\n",
    "    "
   ]
  },
  {
   "cell_type": "code",
   "execution_count": 43,
   "id": "d4a24935-f108-434d-be51-c70a3ec89646",
   "metadata": {},
   "outputs": [
    {
     "data": {
      "text/html": [
       "<div>\n",
       "<style scoped>\n",
       "    .dataframe tbody tr th:only-of-type {\n",
       "        vertical-align: middle;\n",
       "    }\n",
       "\n",
       "    .dataframe tbody tr th {\n",
       "        vertical-align: top;\n",
       "    }\n",
       "\n",
       "    .dataframe thead th {\n",
       "        text-align: right;\n",
       "    }\n",
       "</style>\n",
       "<table border=\"1\" class=\"dataframe\">\n",
       "  <thead>\n",
       "    <tr style=\"text-align: right;\">\n",
       "      <th></th>\n",
       "      <th>subreddit</th>\n",
       "      <th>selftext</th>\n",
       "      <th>author_fullname</th>\n",
       "      <th>gilded</th>\n",
       "      <th>title</th>\n",
       "      <th>link_flair_richtext</th>\n",
       "      <th>subreddit_name_prefixed</th>\n",
       "      <th>hidden</th>\n",
       "      <th>pwls</th>\n",
       "      <th>link_flair_css_class</th>\n",
       "      <th>...</th>\n",
       "      <th>preview</th>\n",
       "      <th>link_flair_template_id</th>\n",
       "      <th>crosspost_parent_list</th>\n",
       "      <th>crosspost_parent</th>\n",
       "      <th>is_gallery</th>\n",
       "      <th>media_metadata</th>\n",
       "      <th>gallery_data</th>\n",
       "      <th>poll_data</th>\n",
       "      <th>author_cakeday</th>\n",
       "      <th>edited_on</th>\n",
       "    </tr>\n",
       "  </thead>\n",
       "  <tbody>\n",
       "    <tr>\n",
       "      <th>0</th>\n",
       "      <td>Jewish</td>\n",
       "      <td></td>\n",
       "      <td>t2_e6jjoxd2</td>\n",
       "      <td>0</td>\n",
       "      <td>i don't speak Hebrew i want to learn about it ...</td>\n",
       "      <td>[]</td>\n",
       "      <td>r/Jewish</td>\n",
       "      <td>False</td>\n",
       "      <td>6</td>\n",
       "      <td>None</td>\n",
       "      <td>...</td>\n",
       "      <td>NaN</td>\n",
       "      <td>NaN</td>\n",
       "      <td>NaN</td>\n",
       "      <td>NaN</td>\n",
       "      <td>NaN</td>\n",
       "      <td>NaN</td>\n",
       "      <td>NaN</td>\n",
       "      <td>NaN</td>\n",
       "      <td>NaN</td>\n",
       "      <td>NaN</td>\n",
       "    </tr>\n",
       "    <tr>\n",
       "      <th>1</th>\n",
       "      <td>Jewish</td>\n",
       "      <td></td>\n",
       "      <td>t2_8ptb30ld</td>\n",
       "      <td>0</td>\n",
       "      <td>On Friday, I like to listen to the music of Je...</td>\n",
       "      <td>[]</td>\n",
       "      <td>r/Jewish</td>\n",
       "      <td>False</td>\n",
       "      <td>6</td>\n",
       "      <td></td>\n",
       "      <td>...</td>\n",
       "      <td>{'images': [{'source': {'url': 'https://extern...</td>\n",
       "      <td>7b0a3ee4-bfc3-11eb-a1de-0ef3c70140b1</td>\n",
       "      <td>NaN</td>\n",
       "      <td>NaN</td>\n",
       "      <td>NaN</td>\n",
       "      <td>NaN</td>\n",
       "      <td>NaN</td>\n",
       "      <td>NaN</td>\n",
       "      <td>NaN</td>\n",
       "      <td>NaN</td>\n",
       "    </tr>\n",
       "    <tr>\n",
       "      <th>2</th>\n",
       "      <td>Jewish</td>\n",
       "      <td></td>\n",
       "      <td>t2_1xtoqqdo</td>\n",
       "      <td>0</td>\n",
       "      <td>As a Patrilineal Jew, I See Myself in the Gole...</td>\n",
       "      <td>[]</td>\n",
       "      <td>r/Jewish</td>\n",
       "      <td>False</td>\n",
       "      <td>6</td>\n",
       "      <td></td>\n",
       "      <td>...</td>\n",
       "      <td>{'images': [{'source': {'url': 'https://extern...</td>\n",
       "      <td>f243c26e-bea3-11e9-84cd-0ea8c9a3cdd0</td>\n",
       "      <td>NaN</td>\n",
       "      <td>NaN</td>\n",
       "      <td>NaN</td>\n",
       "      <td>NaN</td>\n",
       "      <td>NaN</td>\n",
       "      <td>NaN</td>\n",
       "      <td>NaN</td>\n",
       "      <td>NaN</td>\n",
       "    </tr>\n",
       "  </tbody>\n",
       "</table>\n",
       "<p>3 rows × 98 columns</p>\n",
       "</div>"
      ],
      "text/plain": [
       "  subreddit selftext author_fullname  gilded  \\\n",
       "0    Jewish              t2_e6jjoxd2       0   \n",
       "1    Jewish              t2_8ptb30ld       0   \n",
       "2    Jewish              t2_1xtoqqdo       0   \n",
       "\n",
       "                                               title link_flair_richtext  \\\n",
       "0  i don't speak Hebrew i want to learn about it ...                  []   \n",
       "1  On Friday, I like to listen to the music of Je...                  []   \n",
       "2  As a Patrilineal Jew, I See Myself in the Gole...                  []   \n",
       "\n",
       "  subreddit_name_prefixed  hidden  pwls link_flair_css_class  ...  \\\n",
       "0                r/Jewish   False     6                 None  ...   \n",
       "1                r/Jewish   False     6                       ...   \n",
       "2                r/Jewish   False     6                       ...   \n",
       "\n",
       "                                             preview  \\\n",
       "0                                                NaN   \n",
       "1  {'images': [{'source': {'url': 'https://extern...   \n",
       "2  {'images': [{'source': {'url': 'https://extern...   \n",
       "\n",
       "                 link_flair_template_id  crosspost_parent_list  \\\n",
       "0                                   NaN                    NaN   \n",
       "1  7b0a3ee4-bfc3-11eb-a1de-0ef3c70140b1                    NaN   \n",
       "2  f243c26e-bea3-11e9-84cd-0ea8c9a3cdd0                    NaN   \n",
       "\n",
       "   crosspost_parent is_gallery  media_metadata gallery_data poll_data  \\\n",
       "0               NaN        NaN             NaN          NaN       NaN   \n",
       "1               NaN        NaN             NaN          NaN       NaN   \n",
       "2               NaN        NaN             NaN          NaN       NaN   \n",
       "\n",
       "   author_cakeday edited_on  \n",
       "0             NaN       NaN  \n",
       "1             NaN       NaN  \n",
       "2             NaN       NaN  \n",
       "\n",
       "[3 rows x 98 columns]"
      ]
     },
     "execution_count": 43,
     "metadata": {},
     "output_type": "execute_result"
    }
   ],
   "source": [
    "jewish_df = pd.concat(jewish_posts)\n",
    "jewish_df.head(3)"
   ]
  },
  {
   "cell_type": "code",
   "execution_count": 44,
   "id": "3e2702e7-7a6b-4bee-b074-3b11ac800b9a",
   "metadata": {},
   "outputs": [
    {
     "data": {
      "text/plain": [
       "Am I Jewish?                                                                                                                           4\n",
       "Does anyone else have Jewish identity issues?                                                                                          3\n",
       "They're a little confused, but they've got the (holiday) spirit!                                                                       3\n",
       "Parshat Toldot The Isaac Way. Using Your Own Strengths | Toldot                                                                        3\n",
       "I'm looking for insight and advice on how to approach a family member that is posting borderline antisemitic items on social media!    3\n",
       "                                                                                                                                      ..\n",
       "Hava Nagila song sounds nice. Is there any other popular Jewish folk music? on what occasions one might hear it?                       1\n",
       "Question about a menorah I saw on social media.                                                                                        1\n",
       "Question about menorah seen on social media.                                                                                           1\n",
       "Jeff Goldblum parting the Red Sea                                                                                                      1\n",
       "Dave Chappelle, Louis CK Comedy Albums Land Grammy Nominations, Despite Controversies                                                  1\n",
       "Name: title, Length: 1936, dtype: int64"
      ]
     },
     "execution_count": 44,
     "metadata": {},
     "output_type": "execute_result"
    }
   ],
   "source": [
    "jewish_df['title'].value_counts()"
   ]
  },
  {
   "cell_type": "code",
   "execution_count": 77,
   "id": "c87dcfdf-8893-445e-bc7a-cc006f7c4917",
   "metadata": {},
   "outputs": [
    {
     "data": {
      "text/plain": [
       "(1997, 98)"
      ]
     },
     "execution_count": 77,
     "metadata": {},
     "output_type": "execute_result"
    }
   ],
   "source": [
    "jewish_df.shape"
   ]
  },
  {
   "cell_type": "code",
   "execution_count": 46,
   "id": "650a74a3-955c-4f02-8a19-01b42815c29f",
   "metadata": {},
   "outputs": [],
   "source": [
    "jewish_df.to_csv('jewish_posts.csv', index=False)   #save dataframe as csv"
   ]
  },
  {
   "cell_type": "markdown",
   "id": "bf1bc57e-aaf4-4862-ba37-9e5e04a94bfb",
   "metadata": {},
   "source": [
    "### Israel"
   ]
  },
  {
   "cell_type": "code",
   "execution_count": 62,
   "id": "b8f72a90-69e2-48b9-9924-90d67fe01177",
   "metadata": {},
   "outputs": [],
   "source": [
    "url = 'https://api.pushshift.io/reddit/search/submission'"
   ]
  },
  {
   "cell_type": "code",
   "execution_count": 63,
   "id": "6a679884-ea9f-46ea-9a06-9f836f96c969",
   "metadata": {},
   "outputs": [],
   "source": [
    "params = {\n",
    "        'subreddit': 'Israel', \n",
    "        'size': 100, \n",
    "    }"
   ]
  },
  {
   "cell_type": "code",
   "execution_count": 64,
   "id": "0f6d4ccf-4aee-4bf6-b145-f21211fbde5a",
   "metadata": {},
   "outputs": [],
   "source": [
    "res = requests.get(url, params)"
   ]
  },
  {
   "cell_type": "code",
   "execution_count": 65,
   "id": "cbc4eae9-30ce-41c1-9c38-4c7df3e77e4f",
   "metadata": {},
   "outputs": [
    {
     "data": {
      "text/plain": [
       "{'subreddit': 'Israel', 'size': 100}"
      ]
     },
     "execution_count": 65,
     "metadata": {},
     "output_type": "execute_result"
    }
   ],
   "source": [
    "params"
   ]
  },
  {
   "cell_type": "code",
   "execution_count": 66,
   "id": "b4baf8d3-c5c0-4296-8d44-5fd4eb4cc1f1",
   "metadata": {},
   "outputs": [
    {
     "data": {
      "text/plain": [
       "100"
      ]
     },
     "execution_count": 66,
     "metadata": {},
     "output_type": "execute_result"
    }
   ],
   "source": [
    "len(res.json()['data'])"
   ]
  },
  {
   "cell_type": "code",
   "execution_count": 67,
   "id": "41bede02-07e9-45eb-be53-60610d0b550d",
   "metadata": {},
   "outputs": [],
   "source": [
    "israel_df =  pd.DataFrame(res.json()['data'])"
   ]
  },
  {
   "cell_type": "code",
   "execution_count": 68,
   "id": "639ea4b8-4b42-4c64-9b57-83a430263900",
   "metadata": {},
   "outputs": [
    {
     "data": {
      "text/html": [
       "<div>\n",
       "<style scoped>\n",
       "    .dataframe tbody tr th:only-of-type {\n",
       "        vertical-align: middle;\n",
       "    }\n",
       "\n",
       "    .dataframe tbody tr th {\n",
       "        vertical-align: top;\n",
       "    }\n",
       "\n",
       "    .dataframe thead th {\n",
       "        text-align: right;\n",
       "    }\n",
       "</style>\n",
       "<table border=\"1\" class=\"dataframe\">\n",
       "  <thead>\n",
       "    <tr style=\"text-align: right;\">\n",
       "      <th></th>\n",
       "      <th>subreddit</th>\n",
       "      <th>selftext</th>\n",
       "      <th>author_fullname</th>\n",
       "      <th>gilded</th>\n",
       "      <th>title</th>\n",
       "      <th>link_flair_richtext</th>\n",
       "      <th>subreddit_name_prefixed</th>\n",
       "      <th>hidden</th>\n",
       "      <th>pwls</th>\n",
       "      <th>link_flair_css_class</th>\n",
       "      <th>...</th>\n",
       "      <th>retrieved_utc</th>\n",
       "      <th>updated_utc</th>\n",
       "      <th>utc_datetime_str</th>\n",
       "      <th>post_hint</th>\n",
       "      <th>url_overridden_by_dest</th>\n",
       "      <th>preview</th>\n",
       "      <th>is_gallery</th>\n",
       "      <th>media_metadata</th>\n",
       "      <th>gallery_data</th>\n",
       "      <th>author_cakeday</th>\n",
       "    </tr>\n",
       "  </thead>\n",
       "  <tbody>\n",
       "    <tr>\n",
       "      <th>0</th>\n",
       "      <td>Israel</td>\n",
       "      <td>[removed]</td>\n",
       "      <td>t2_3ay35ze1</td>\n",
       "      <td>0</td>\n",
       "      <td>Where can I find info about the current protests?</td>\n",
       "      <td>[{'e': 'text', 't': 'Ask The Sub'}]</td>\n",
       "      <td>r/Israel</td>\n",
       "      <td>False</td>\n",
       "      <td>0</td>\n",
       "      <td>askthesub</td>\n",
       "      <td>...</td>\n",
       "      <td>1674755688</td>\n",
       "      <td>1674755689</td>\n",
       "      <td>2023-01-26 17:54:36</td>\n",
       "      <td>NaN</td>\n",
       "      <td>NaN</td>\n",
       "      <td>NaN</td>\n",
       "      <td>NaN</td>\n",
       "      <td>NaN</td>\n",
       "      <td>NaN</td>\n",
       "      <td>NaN</td>\n",
       "    </tr>\n",
       "    <tr>\n",
       "      <th>1</th>\n",
       "      <td>Israel</td>\n",
       "      <td></td>\n",
       "      <td>t2_g0zik9vg</td>\n",
       "      <td>0</td>\n",
       "      <td>What are the chances for an escalation (rocket...</td>\n",
       "      <td>[{'e': 'text', 't': 'Ask The Sub'}]</td>\n",
       "      <td>r/Israel</td>\n",
       "      <td>False</td>\n",
       "      <td>0</td>\n",
       "      <td>askthesub</td>\n",
       "      <td>...</td>\n",
       "      <td>1674755274</td>\n",
       "      <td>1674755275</td>\n",
       "      <td>2023-01-26 17:47:40</td>\n",
       "      <td>NaN</td>\n",
       "      <td>NaN</td>\n",
       "      <td>NaN</td>\n",
       "      <td>NaN</td>\n",
       "      <td>NaN</td>\n",
       "      <td>NaN</td>\n",
       "      <td>NaN</td>\n",
       "    </tr>\n",
       "    <tr>\n",
       "      <th>2</th>\n",
       "      <td>Israel</td>\n",
       "      <td></td>\n",
       "      <td>t2_s2fznjre</td>\n",
       "      <td>0</td>\n",
       "      <td>Tel Aviv-based payroll giant Papaya Global say...</td>\n",
       "      <td>[{'e': 'text', 't': 'News/Politics'}]</td>\n",
       "      <td>r/Israel</td>\n",
       "      <td>False</td>\n",
       "      <td>0</td>\n",
       "      <td>polnews</td>\n",
       "      <td>...</td>\n",
       "      <td>1674755147</td>\n",
       "      <td>1674755148</td>\n",
       "      <td>2023-01-26 17:45:34</td>\n",
       "      <td>link</td>\n",
       "      <td>https://www.timesofisrael.com/tel-aviv-based-p...</td>\n",
       "      <td>{'images': [{'source': {'url': 'https://extern...</td>\n",
       "      <td>NaN</td>\n",
       "      <td>NaN</td>\n",
       "      <td>NaN</td>\n",
       "      <td>NaN</td>\n",
       "    </tr>\n",
       "  </tbody>\n",
       "</table>\n",
       "<p>3 rows × 94 columns</p>\n",
       "</div>"
      ],
      "text/plain": [
       "  subreddit   selftext author_fullname  gilded  \\\n",
       "0    Israel  [removed]     t2_3ay35ze1       0   \n",
       "1    Israel                t2_g0zik9vg       0   \n",
       "2    Israel                t2_s2fznjre       0   \n",
       "\n",
       "                                               title  \\\n",
       "0  Where can I find info about the current protests?   \n",
       "1  What are the chances for an escalation (rocket...   \n",
       "2  Tel Aviv-based payroll giant Papaya Global say...   \n",
       "\n",
       "                     link_flair_richtext subreddit_name_prefixed  hidden  \\\n",
       "0    [{'e': 'text', 't': 'Ask The Sub'}]                r/Israel   False   \n",
       "1    [{'e': 'text', 't': 'Ask The Sub'}]                r/Israel   False   \n",
       "2  [{'e': 'text', 't': 'News/Politics'}]                r/Israel   False   \n",
       "\n",
       "   pwls link_flair_css_class  ...  retrieved_utc updated_utc  \\\n",
       "0     0            askthesub  ...     1674755688  1674755689   \n",
       "1     0            askthesub  ...     1674755274  1674755275   \n",
       "2     0              polnews  ...     1674755147  1674755148   \n",
       "\n",
       "      utc_datetime_str  post_hint  \\\n",
       "0  2023-01-26 17:54:36        NaN   \n",
       "1  2023-01-26 17:47:40        NaN   \n",
       "2  2023-01-26 17:45:34       link   \n",
       "\n",
       "                              url_overridden_by_dest  \\\n",
       "0                                                NaN   \n",
       "1                                                NaN   \n",
       "2  https://www.timesofisrael.com/tel-aviv-based-p...   \n",
       "\n",
       "                                             preview is_gallery  \\\n",
       "0                                                NaN        NaN   \n",
       "1                                                NaN        NaN   \n",
       "2  {'images': [{'source': {'url': 'https://extern...        NaN   \n",
       "\n",
       "  media_metadata  gallery_data author_cakeday  \n",
       "0            NaN           NaN            NaN  \n",
       "1            NaN           NaN            NaN  \n",
       "2            NaN           NaN            NaN  \n",
       "\n",
       "[3 rows x 94 columns]"
      ]
     },
     "execution_count": 68,
     "metadata": {},
     "output_type": "execute_result"
    }
   ],
   "source": [
    "israel_df.head(3)"
   ]
  },
  {
   "cell_type": "code",
   "execution_count": 69,
   "id": "70f885a0-8f59-4005-9929-c94a8057d97b",
   "metadata": {},
   "outputs": [
    {
     "data": {
      "text/plain": [
       "1674489062"
      ]
     },
     "execution_count": 69,
     "metadata": {},
     "output_type": "execute_result"
    }
   ],
   "source": [
    "res.json()['data'][-1]['created_utc']    # date of the oldest post (out of 100)"
   ]
  },
  {
   "cell_type": "code",
   "execution_count": 70,
   "id": "85c9fd7e-0ab6-4858-9201-e6b11f77d548",
   "metadata": {},
   "outputs": [],
   "source": [
    "israel_posts = []\n",
    "\n",
    "params = {\n",
    "        'subreddit': 'Israel', \n",
    "        'size': 100, \n",
    "}\n",
    "\n",
    "for i in range(20):\n",
    "    time.sleep(60)                                  #pause scraping for 60 seconds\n",
    "    res = requests.get(url, params)\n",
    "    il_posts = pd.DataFrame(res.json()['data'])\n",
    "    israel_posts.append(il_posts)\n",
    "    params['before'] = res.json()['data'][-1]['created_utc']"
   ]
  },
  {
   "cell_type": "code",
   "execution_count": 72,
   "id": "13bcddce-c9e1-466d-939c-016257dc7db4",
   "metadata": {},
   "outputs": [
    {
     "data": {
      "text/html": [
       "<div>\n",
       "<style scoped>\n",
       "    .dataframe tbody tr th:only-of-type {\n",
       "        vertical-align: middle;\n",
       "    }\n",
       "\n",
       "    .dataframe tbody tr th {\n",
       "        vertical-align: top;\n",
       "    }\n",
       "\n",
       "    .dataframe thead th {\n",
       "        text-align: right;\n",
       "    }\n",
       "</style>\n",
       "<table border=\"1\" class=\"dataframe\">\n",
       "  <thead>\n",
       "    <tr style=\"text-align: right;\">\n",
       "      <th></th>\n",
       "      <th>subreddit</th>\n",
       "      <th>selftext</th>\n",
       "      <th>author_fullname</th>\n",
       "      <th>gilded</th>\n",
       "      <th>title</th>\n",
       "      <th>link_flair_richtext</th>\n",
       "      <th>subreddit_name_prefixed</th>\n",
       "      <th>hidden</th>\n",
       "      <th>pwls</th>\n",
       "      <th>link_flair_css_class</th>\n",
       "      <th>...</th>\n",
       "      <th>retrieved_utc</th>\n",
       "      <th>updated_utc</th>\n",
       "      <th>utc_datetime_str</th>\n",
       "      <th>post_hint</th>\n",
       "      <th>url_overridden_by_dest</th>\n",
       "      <th>preview</th>\n",
       "      <th>is_gallery</th>\n",
       "      <th>media_metadata</th>\n",
       "      <th>gallery_data</th>\n",
       "      <th>author_cakeday</th>\n",
       "    </tr>\n",
       "  </thead>\n",
       "  <tbody>\n",
       "    <tr>\n",
       "      <th>0</th>\n",
       "      <td>Israel</td>\n",
       "      <td>[removed]</td>\n",
       "      <td>t2_3ay35ze1</td>\n",
       "      <td>0</td>\n",
       "      <td>Where can I find info about the current protests?</td>\n",
       "      <td>[{'e': 'text', 't': 'Ask The Sub'}]</td>\n",
       "      <td>r/Israel</td>\n",
       "      <td>False</td>\n",
       "      <td>0.0</td>\n",
       "      <td>askthesub</td>\n",
       "      <td>...</td>\n",
       "      <td>1674755688</td>\n",
       "      <td>1674755689</td>\n",
       "      <td>2023-01-26 17:54:36</td>\n",
       "      <td>NaN</td>\n",
       "      <td>NaN</td>\n",
       "      <td>NaN</td>\n",
       "      <td>NaN</td>\n",
       "      <td>NaN</td>\n",
       "      <td>NaN</td>\n",
       "      <td>NaN</td>\n",
       "    </tr>\n",
       "    <tr>\n",
       "      <th>1</th>\n",
       "      <td>Israel</td>\n",
       "      <td></td>\n",
       "      <td>t2_g0zik9vg</td>\n",
       "      <td>0</td>\n",
       "      <td>What are the chances for an escalation (rocket...</td>\n",
       "      <td>[{'e': 'text', 't': 'Ask The Sub'}]</td>\n",
       "      <td>r/Israel</td>\n",
       "      <td>False</td>\n",
       "      <td>0.0</td>\n",
       "      <td>askthesub</td>\n",
       "      <td>...</td>\n",
       "      <td>1674755274</td>\n",
       "      <td>1674755275</td>\n",
       "      <td>2023-01-26 17:47:40</td>\n",
       "      <td>NaN</td>\n",
       "      <td>NaN</td>\n",
       "      <td>NaN</td>\n",
       "      <td>NaN</td>\n",
       "      <td>NaN</td>\n",
       "      <td>NaN</td>\n",
       "      <td>NaN</td>\n",
       "    </tr>\n",
       "    <tr>\n",
       "      <th>2</th>\n",
       "      <td>Israel</td>\n",
       "      <td></td>\n",
       "      <td>t2_s2fznjre</td>\n",
       "      <td>0</td>\n",
       "      <td>Tel Aviv-based payroll giant Papaya Global say...</td>\n",
       "      <td>[{'e': 'text', 't': 'News/Politics'}]</td>\n",
       "      <td>r/Israel</td>\n",
       "      <td>False</td>\n",
       "      <td>0.0</td>\n",
       "      <td>polnews</td>\n",
       "      <td>...</td>\n",
       "      <td>1674755147</td>\n",
       "      <td>1674755148</td>\n",
       "      <td>2023-01-26 17:45:34</td>\n",
       "      <td>link</td>\n",
       "      <td>https://www.timesofisrael.com/tel-aviv-based-p...</td>\n",
       "      <td>{'images': [{'source': {'url': 'https://extern...</td>\n",
       "      <td>NaN</td>\n",
       "      <td>NaN</td>\n",
       "      <td>NaN</td>\n",
       "      <td>NaN</td>\n",
       "    </tr>\n",
       "  </tbody>\n",
       "</table>\n",
       "<p>3 rows × 94 columns</p>\n",
       "</div>"
      ],
      "text/plain": [
       "  subreddit   selftext author_fullname  gilded  \\\n",
       "0    Israel  [removed]     t2_3ay35ze1       0   \n",
       "1    Israel                t2_g0zik9vg       0   \n",
       "2    Israel                t2_s2fznjre       0   \n",
       "\n",
       "                                               title  \\\n",
       "0  Where can I find info about the current protests?   \n",
       "1  What are the chances for an escalation (rocket...   \n",
       "2  Tel Aviv-based payroll giant Papaya Global say...   \n",
       "\n",
       "                     link_flair_richtext subreddit_name_prefixed  hidden  \\\n",
       "0    [{'e': 'text', 't': 'Ask The Sub'}]                r/Israel   False   \n",
       "1    [{'e': 'text', 't': 'Ask The Sub'}]                r/Israel   False   \n",
       "2  [{'e': 'text', 't': 'News/Politics'}]                r/Israel   False   \n",
       "\n",
       "   pwls link_flair_css_class  ...  retrieved_utc updated_utc  \\\n",
       "0   0.0            askthesub  ...     1674755688  1674755689   \n",
       "1   0.0            askthesub  ...     1674755274  1674755275   \n",
       "2   0.0              polnews  ...     1674755147  1674755148   \n",
       "\n",
       "      utc_datetime_str  post_hint  \\\n",
       "0  2023-01-26 17:54:36        NaN   \n",
       "1  2023-01-26 17:47:40        NaN   \n",
       "2  2023-01-26 17:45:34       link   \n",
       "\n",
       "                              url_overridden_by_dest  \\\n",
       "0                                                NaN   \n",
       "1                                                NaN   \n",
       "2  https://www.timesofisrael.com/tel-aviv-based-p...   \n",
       "\n",
       "                                             preview is_gallery  \\\n",
       "0                                                NaN        NaN   \n",
       "1                                                NaN        NaN   \n",
       "2  {'images': [{'source': {'url': 'https://extern...        NaN   \n",
       "\n",
       "  media_metadata  gallery_data author_cakeday  \n",
       "0            NaN           NaN            NaN  \n",
       "1            NaN           NaN            NaN  \n",
       "2            NaN           NaN            NaN  \n",
       "\n",
       "[3 rows x 94 columns]"
      ]
     },
     "execution_count": 72,
     "metadata": {},
     "output_type": "execute_result"
    }
   ],
   "source": [
    "israel_df = pd.concat(israel_posts)\n",
    "israel_df.head(3)"
   ]
  },
  {
   "cell_type": "code",
   "execution_count": 73,
   "id": "54bcaa29-1215-4ed8-a4e3-da0f009ef45c",
   "metadata": {},
   "outputs": [
    {
     "data": {
      "text/plain": [
       "Rolls Royce's new NFT collection is Live! 800 NFTs for the first 800 people!                 5\n",
       "Get A free $750 Shein Card! See if you qualify below!                                        4\n",
       "Get a free $750 CashApp Card! New Cash App Hack Method! Only 72 left                         4\n",
       "Bring Adam home                                                                              3\n",
       "Israel's High Court blocks Arye Deri from serving as minister                                3\n",
       "                                                                                            ..\n",
       "One more reason to hate the ministry of education                                            1\n",
       "URGENT Is it possible to withdraw money without a card and only using phone? If so where?    1\n",
       "Nice try waze                                                                                1\n",
       "Civilian firearm training in Israel                                                          1\n",
       "Iran 'should make Netanyahu their slave': IRGC commander                                     1\n",
       "Name: title, Length: 1926, dtype: int64"
      ]
     },
     "execution_count": 73,
     "metadata": {},
     "output_type": "execute_result"
    }
   ],
   "source": [
    "israel_df['title'].value_counts()"
   ]
  },
  {
   "cell_type": "code",
   "execution_count": 74,
   "id": "4532235d-b457-4215-b912-4506730be4fe",
   "metadata": {},
   "outputs": [],
   "source": [
    "israel_df.to_csv('israel_posts.csv', index=False)   #save dataframe as csv"
   ]
  },
  {
   "cell_type": "code",
   "execution_count": 76,
   "id": "1af1a671-5168-4a44-a237-e178ccbb0436",
   "metadata": {},
   "outputs": [
    {
     "data": {
      "text/plain": [
       "(1998, 94)"
      ]
     },
     "execution_count": 76,
     "metadata": {},
     "output_type": "execute_result"
    }
   ],
   "source": [
    "israel_df.shape"
   ]
  }
 ],
 "metadata": {
  "kernelspec": {
   "display_name": "Python 3 (ipykernel)",
   "language": "python",
   "name": "python3"
  },
  "language_info": {
   "codemirror_mode": {
    "name": "ipython",
    "version": 3
   },
   "file_extension": ".py",
   "mimetype": "text/x-python",
   "name": "python",
   "nbconvert_exporter": "python",
   "pygments_lexer": "ipython3",
   "version": "3.9.7"
  }
 },
 "nbformat": 4,
 "nbformat_minor": 5
}
