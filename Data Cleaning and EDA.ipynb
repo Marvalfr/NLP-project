{
 "cells": [
  {
   "cell_type": "code",
   "execution_count": 20,
   "id": "481c3b18-df27-49cd-8305-e0f7812a477e",
   "metadata": {},
   "outputs": [],
   "source": [
    "import numpy as np\n",
    "import pandas as pd\n",
    "import seaborn as sns\n",
    "import matplotlib.pyplot as plt"
   ]
  },
  {
   "cell_type": "markdown",
   "id": "68c3cf9c-9256-40f3-ba66-f4537bae45b1",
   "metadata": {},
   "source": [
    "### AskWomen Data Cleaning and EDA"
   ]
  },
  {
   "cell_type": "code",
   "execution_count": 21,
   "id": "1af1a671-5168-4a44-a237-e178ccbb0436",
   "metadata": {},
   "outputs": [],
   "source": [
    "women_df = pd.read_csv('./Data/women_posts.csv')"
   ]
  },
  {
   "cell_type": "code",
   "execution_count": 22,
   "id": "94f04fdf-f67c-41ad-a5e1-9367585d6d80",
   "metadata": {},
   "outputs": [
    {
     "data": {
      "text/html": [
       "<div>\n",
       "<style scoped>\n",
       "    .dataframe tbody tr th:only-of-type {\n",
       "        vertical-align: middle;\n",
       "    }\n",
       "\n",
       "    .dataframe tbody tr th {\n",
       "        vertical-align: top;\n",
       "    }\n",
       "\n",
       "    .dataframe thead th {\n",
       "        text-align: right;\n",
       "    }\n",
       "</style>\n",
       "<table border=\"1\" class=\"dataframe\">\n",
       "  <thead>\n",
       "    <tr style=\"text-align: right;\">\n",
       "      <th></th>\n",
       "      <th>all_awardings</th>\n",
       "      <th>allow_live_comments</th>\n",
       "      <th>author</th>\n",
       "      <th>author_flair_css_class</th>\n",
       "      <th>author_flair_richtext</th>\n",
       "      <th>author_flair_text</th>\n",
       "      <th>author_flair_type</th>\n",
       "      <th>author_fullname</th>\n",
       "      <th>author_is_blocked</th>\n",
       "      <th>author_patreon_flair</th>\n",
       "      <th>...</th>\n",
       "      <th>author_flair_background_color</th>\n",
       "      <th>author_flair_text_color</th>\n",
       "      <th>banned_by</th>\n",
       "      <th>call_to_action</th>\n",
       "      <th>category</th>\n",
       "      <th>author_flair_template_id</th>\n",
       "      <th>link_flair_template_id</th>\n",
       "      <th>link_flair_text</th>\n",
       "      <th>author_cakeday</th>\n",
       "      <th>edited</th>\n",
       "    </tr>\n",
       "  </thead>\n",
       "  <tbody>\n",
       "    <tr>\n",
       "      <th>0</th>\n",
       "      <td>[]</td>\n",
       "      <td>False</td>\n",
       "      <td>C4TERW4L</td>\n",
       "      <td>NaN</td>\n",
       "      <td>[]</td>\n",
       "      <td>NaN</td>\n",
       "      <td>text</td>\n",
       "      <td>t2_w635x</td>\n",
       "      <td>False</td>\n",
       "      <td>False</td>\n",
       "      <td>...</td>\n",
       "      <td>NaN</td>\n",
       "      <td>NaN</td>\n",
       "      <td>NaN</td>\n",
       "      <td>NaN</td>\n",
       "      <td>NaN</td>\n",
       "      <td>NaN</td>\n",
       "      <td>NaN</td>\n",
       "      <td>NaN</td>\n",
       "      <td>NaN</td>\n",
       "      <td>NaN</td>\n",
       "    </tr>\n",
       "    <tr>\n",
       "      <th>1</th>\n",
       "      <td>[]</td>\n",
       "      <td>False</td>\n",
       "      <td>throwawayalientk</td>\n",
       "      <td>NaN</td>\n",
       "      <td>[]</td>\n",
       "      <td>NaN</td>\n",
       "      <td>text</td>\n",
       "      <td>t2_5992f1cb</td>\n",
       "      <td>False</td>\n",
       "      <td>False</td>\n",
       "      <td>...</td>\n",
       "      <td>NaN</td>\n",
       "      <td>NaN</td>\n",
       "      <td>NaN</td>\n",
       "      <td>NaN</td>\n",
       "      <td>NaN</td>\n",
       "      <td>NaN</td>\n",
       "      <td>NaN</td>\n",
       "      <td>NaN</td>\n",
       "      <td>NaN</td>\n",
       "      <td>NaN</td>\n",
       "    </tr>\n",
       "    <tr>\n",
       "      <th>2</th>\n",
       "      <td>[]</td>\n",
       "      <td>False</td>\n",
       "      <td>throwawayalientk</td>\n",
       "      <td>NaN</td>\n",
       "      <td>[]</td>\n",
       "      <td>NaN</td>\n",
       "      <td>text</td>\n",
       "      <td>t2_5992f1cb</td>\n",
       "      <td>False</td>\n",
       "      <td>False</td>\n",
       "      <td>...</td>\n",
       "      <td>NaN</td>\n",
       "      <td>NaN</td>\n",
       "      <td>NaN</td>\n",
       "      <td>NaN</td>\n",
       "      <td>NaN</td>\n",
       "      <td>NaN</td>\n",
       "      <td>NaN</td>\n",
       "      <td>NaN</td>\n",
       "      <td>NaN</td>\n",
       "      <td>NaN</td>\n",
       "    </tr>\n",
       "    <tr>\n",
       "      <th>3</th>\n",
       "      <td>[]</td>\n",
       "      <td>False</td>\n",
       "      <td>Exact_Roll_4048</td>\n",
       "      <td>NaN</td>\n",
       "      <td>[]</td>\n",
       "      <td>NaN</td>\n",
       "      <td>text</td>\n",
       "      <td>t2_7dtxul8b</td>\n",
       "      <td>False</td>\n",
       "      <td>False</td>\n",
       "      <td>...</td>\n",
       "      <td>NaN</td>\n",
       "      <td>NaN</td>\n",
       "      <td>NaN</td>\n",
       "      <td>NaN</td>\n",
       "      <td>NaN</td>\n",
       "      <td>NaN</td>\n",
       "      <td>NaN</td>\n",
       "      <td>NaN</td>\n",
       "      <td>NaN</td>\n",
       "      <td>NaN</td>\n",
       "    </tr>\n",
       "    <tr>\n",
       "      <th>4</th>\n",
       "      <td>[]</td>\n",
       "      <td>False</td>\n",
       "      <td>Unfair_Salad_5521</td>\n",
       "      <td>NaN</td>\n",
       "      <td>[]</td>\n",
       "      <td>NaN</td>\n",
       "      <td>text</td>\n",
       "      <td>t2_ha34dlxa</td>\n",
       "      <td>False</td>\n",
       "      <td>False</td>\n",
       "      <td>...</td>\n",
       "      <td>NaN</td>\n",
       "      <td>NaN</td>\n",
       "      <td>NaN</td>\n",
       "      <td>NaN</td>\n",
       "      <td>NaN</td>\n",
       "      <td>NaN</td>\n",
       "      <td>NaN</td>\n",
       "      <td>NaN</td>\n",
       "      <td>NaN</td>\n",
       "      <td>NaN</td>\n",
       "    </tr>\n",
       "  </tbody>\n",
       "</table>\n",
       "<p>5 rows × 73 columns</p>\n",
       "</div>"
      ],
      "text/plain": [
       "  all_awardings  allow_live_comments             author  \\\n",
       "0            []                False           C4TERW4L   \n",
       "1            []                False   throwawayalientk   \n",
       "2            []                False   throwawayalientk   \n",
       "3            []                False    Exact_Roll_4048   \n",
       "4            []                False  Unfair_Salad_5521   \n",
       "\n",
       "  author_flair_css_class author_flair_richtext author_flair_text  \\\n",
       "0                    NaN                    []               NaN   \n",
       "1                    NaN                    []               NaN   \n",
       "2                    NaN                    []               NaN   \n",
       "3                    NaN                    []               NaN   \n",
       "4                    NaN                    []               NaN   \n",
       "\n",
       "  author_flair_type author_fullname  author_is_blocked author_patreon_flair  \\\n",
       "0              text        t2_w635x              False                False   \n",
       "1              text     t2_5992f1cb              False                False   \n",
       "2              text     t2_5992f1cb              False                False   \n",
       "3              text     t2_7dtxul8b              False                False   \n",
       "4              text     t2_ha34dlxa              False                False   \n",
       "\n",
       "   ... author_flair_background_color author_flair_text_color  banned_by  \\\n",
       "0  ...                           NaN                     NaN        NaN   \n",
       "1  ...                           NaN                     NaN        NaN   \n",
       "2  ...                           NaN                     NaN        NaN   \n",
       "3  ...                           NaN                     NaN        NaN   \n",
       "4  ...                           NaN                     NaN        NaN   \n",
       "\n",
       "   call_to_action  category author_flair_template_id link_flair_template_id  \\\n",
       "0             NaN       NaN                      NaN                    NaN   \n",
       "1             NaN       NaN                      NaN                    NaN   \n",
       "2             NaN       NaN                      NaN                    NaN   \n",
       "3             NaN       NaN                      NaN                    NaN   \n",
       "4             NaN       NaN                      NaN                    NaN   \n",
       "\n",
       "  link_flair_text author_cakeday  edited  \n",
       "0             NaN            NaN     NaN  \n",
       "1             NaN            NaN     NaN  \n",
       "2             NaN            NaN     NaN  \n",
       "3             NaN            NaN     NaN  \n",
       "4             NaN            NaN     NaN  \n",
       "\n",
       "[5 rows x 73 columns]"
      ]
     },
     "execution_count": 22,
     "metadata": {},
     "output_type": "execute_result"
    }
   ],
   "source": [
    "women_df.head()"
   ]
  },
  {
   "cell_type": "code",
   "execution_count": 23,
   "id": "bcd97b1b-511a-42ab-86b7-6cad4c891f6a",
   "metadata": {},
   "outputs": [
    {
     "data": {
      "text/plain": [
       "(3000, 73)"
      ]
     },
     "execution_count": 23,
     "metadata": {},
     "output_type": "execute_result"
    }
   ],
   "source": [
    "women_df.shape"
   ]
  },
  {
   "cell_type": "code",
   "execution_count": 24,
   "id": "cdbf5e7c-f465-4a93-8642-a4f9c88fe64b",
   "metadata": {},
   "outputs": [
    {
     "data": {
      "text/plain": [
       "(0, 923)"
      ]
     },
     "execution_count": 24,
     "metadata": {},
     "output_type": "execute_result"
    }
   ],
   "source": [
    "women_df['title'].isnull().sum(), women_df['selftext'].isnull().sum()"
   ]
  },
  {
   "cell_type": "markdown",
   "id": "d6986a3d-9c1a-4f22-8a7b-409f4e174825",
   "metadata": {},
   "source": [
    "- There are no nulls in the 'title' column and 923 nulls in the 'selftext' column."
   ]
  },
  {
   "cell_type": "code",
   "execution_count": null,
   "id": "362aa274-04cf-4794-af08-45324c682017",
   "metadata": {},
   "outputs": [],
   "source": []
  },
  {
   "cell_type": "code",
   "execution_count": null,
   "id": "b68b3a23-5c71-4788-89eb-f9d817846e02",
   "metadata": {},
   "outputs": [],
   "source": []
  },
  {
   "cell_type": "code",
   "execution_count": null,
   "id": "bb707606-8dd6-4915-8c0d-81cbc3cdafd1",
   "metadata": {},
   "outputs": [],
   "source": []
  },
  {
   "cell_type": "code",
   "execution_count": null,
   "id": "6508ec82-4d9a-461c-83de-2afbf9d295c1",
   "metadata": {},
   "outputs": [],
   "source": []
  }
 ],
 "metadata": {
  "kernelspec": {
   "display_name": "Python 3 (ipykernel)",
   "language": "python",
   "name": "python3"
  },
  "language_info": {
   "codemirror_mode": {
    "name": "ipython",
    "version": 3
   },
   "file_extension": ".py",
   "mimetype": "text/x-python",
   "name": "python",
   "nbconvert_exporter": "python",
   "pygments_lexer": "ipython3",
   "version": "3.9.7"
  }
 },
 "nbformat": 4,
 "nbformat_minor": 5
}
